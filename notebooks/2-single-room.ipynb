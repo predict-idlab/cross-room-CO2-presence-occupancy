{
 "cells": [
  {
   "cell_type": "code",
   "execution_count": 1,
   "metadata": {},
   "outputs": [],
   "source": [
    "%load_ext autoreload\n",
    "%autoreload 2"
   ]
  },
  {
   "cell_type": "code",
   "execution_count": 2,
   "metadata": {},
   "outputs": [],
   "source": [
    "import sys\n",
    "sys.path.append('../src/')"
   ]
  },
  {
   "cell_type": "code",
   "execution_count": 3,
   "metadata": {},
   "outputs": [],
   "source": [
    "import time\n",
    "import catboost\n",
    "import numpy as np\n",
    "import pandas as pd\n",
    "import plotly.graph_objects as go\n",
    "from sklearn.preprocessing import StandardScaler\n",
    "from sklearn.metrics import balanced_accuracy_score\n",
    "\n",
    "from data import load_rooms\n",
    "from features import extract_features\n"
   ]
  },
  {
   "cell_type": "markdown",
   "metadata": {},
   "source": [
    "# Preparation"
   ]
  },
  {
   "cell_type": "code",
   "execution_count": 4,
   "metadata": {},
   "outputs": [],
   "source": [
    "rooms = load_rooms()\n",
    "\n",
    "model = catboost.CatBoostClassifier(iterations=100, verbose=False, custom_loss=[catboost.metrics.F1()], random_seed=1, random_strength=0, rsm=1, has_time=True, bootstrap_type='No')\n"
   ]
  },
  {
   "cell_type": "code",
   "execution_count": 5,
   "metadata": {},
   "outputs": [],
   "source": [
    "def train_eval(model, df_data, window_size='60min', shifts=None):\n",
    "    # Extract features.\n",
    "    df_features, target_names, input_names = extract_features(df_data, window_size, shifts)\n",
    "\n",
    "    # Drop NaN.\n",
    "    df_features = df_features.dropna()\n",
    "\n",
    "    # Split X/y.\n",
    "    df_X = df_features[input_names]\n",
    "    df_y = df_features[target_names]\n",
    "\n",
    "    # Train test split.\n",
    "    train_size = round(len(df_X)*0.66)\n",
    "\n",
    "    df_X_train = df_X.iloc[:train_size]\n",
    "    df_y_train = df_y.iloc[:train_size]\n",
    "    df_X_test = df_X.iloc[train_size:]\n",
    "    df_y_test = df_y.iloc[train_size:]\n",
    "\n",
    "    # Prepare input.\n",
    "    scaler = StandardScaler()\n",
    "    scaler.fit(df_X_train)\n",
    "    X_train = scaler.transform(df_X_train)\n",
    "    X_test = scaler.transform(df_X_test)\n",
    "\n",
    "    # Prepare target.\n",
    "    y_train = df_y_train.values.ravel().astype(np.uint8)\n",
    "    y_test = df_y_test.values.ravel().astype(np.uint8)\n",
    "\n",
    "    # Fit model.\n",
    "    model.fit(X_train, y_train)\n",
    "\n",
    "    # Predict train data and calculate score.\n",
    "    train_pred = model.predict(X_train)\n",
    "    train_ba = balanced_accuracy_score(y_train, train_pred)\n",
    "\n",
    "    # Predict test data and calculate score.\n",
    "    test_pred = model.predict(X_test)\n",
    "    test_ba = balanced_accuracy_score(y_test, test_pred)\n",
    "\n",
    "    return round(train_ba*100, 1), round(test_ba*100, 1)\n"
   ]
  },
  {
   "cell_type": "markdown",
   "metadata": {},
   "source": [
    "# Baseline"
   ]
  },
  {
   "cell_type": "code",
   "execution_count": 6,
   "metadata": {},
   "outputs": [
    {
     "data": {
      "text/html": [
       "<div>\n",
       "<style scoped>\n",
       "    .dataframe tbody tr th:only-of-type {\n",
       "        vertical-align: middle;\n",
       "    }\n",
       "\n",
       "    .dataframe tbody tr th {\n",
       "        vertical-align: top;\n",
       "    }\n",
       "\n",
       "    .dataframe thead tr th {\n",
       "        text-align: left;\n",
       "    }\n",
       "\n",
       "    .dataframe thead tr:last-of-type th {\n",
       "        text-align: right;\n",
       "    }\n",
       "</style>\n",
       "<table border=\"1\" class=\"dataframe\">\n",
       "  <thead>\n",
       "    <tr>\n",
       "      <th></th>\n",
       "      <th colspan=\"2\" halign=\"left\">Office L1</th>\n",
       "      <th colspan=\"2\" halign=\"left\">Office L2</th>\n",
       "      <th colspan=\"2\" halign=\"left\">Office S3</th>\n",
       "      <th colspan=\"2\" halign=\"left\">Home 1</th>\n",
       "    </tr>\n",
       "    <tr>\n",
       "      <th></th>\n",
       "      <th>Train BA</th>\n",
       "      <th>Validation BA</th>\n",
       "      <th>Train BA</th>\n",
       "      <th>Validation BA</th>\n",
       "      <th>Train BA</th>\n",
       "      <th>Validation BA</th>\n",
       "      <th>Train BA</th>\n",
       "      <th>Validation BA</th>\n",
       "    </tr>\n",
       "    <tr>\n",
       "      <th>label</th>\n",
       "      <th></th>\n",
       "      <th></th>\n",
       "      <th></th>\n",
       "      <th></th>\n",
       "      <th></th>\n",
       "      <th></th>\n",
       "      <th></th>\n",
       "      <th></th>\n",
       "    </tr>\n",
       "  </thead>\n",
       "  <tbody>\n",
       "    <tr>\n",
       "      <th>Baseline</th>\n",
       "      <td>79.3</td>\n",
       "      <td>67.6</td>\n",
       "      <td>82.0</td>\n",
       "      <td>59.6</td>\n",
       "      <td>57.3</td>\n",
       "      <td>52.3</td>\n",
       "      <td>83.9</td>\n",
       "      <td>65.3</td>\n",
       "    </tr>\n",
       "  </tbody>\n",
       "</table>\n",
       "</div>"
      ],
      "text/plain": [
       "         Office L1               Office L2               Office S3  \\\n",
       "          Train BA Validation BA  Train BA Validation BA  Train BA   \n",
       "label                                                                \n",
       "Baseline      79.3          67.6      82.0          59.6      57.3   \n",
       "\n",
       "                         Home 1                \n",
       "         Validation BA Train BA Validation BA  \n",
       "label                                          \n",
       "Baseline          52.3     83.9          65.3  "
      ]
     },
     "execution_count": 6,
     "metadata": {},
     "output_type": "execute_result"
    }
   ],
   "source": [
    "d = {}\n",
    "for room, data in rooms.items():\n",
    "    d[room] = pd.DataFrame(\n",
    "        columns=['label', 'Train BA', 'Validation BA'],\n",
    "        data=[['Baseline', *train_eval(model, data)]]\n",
    "    ).set_index('label')\n",
    "\n",
    "df_baseline_results = pd.concat(d, axis=1)\n",
    "df_baseline_results\n"
   ]
  },
  {
   "cell_type": "markdown",
   "metadata": {},
   "source": [
    "# Temporal Shift Features"
   ]
  },
  {
   "cell_type": "code",
   "execution_count": 7,
   "metadata": {},
   "outputs": [
    {
     "data": {
      "text/html": [
       "<div>\n",
       "<style scoped>\n",
       "    .dataframe tbody tr th:only-of-type {\n",
       "        vertical-align: middle;\n",
       "    }\n",
       "\n",
       "    .dataframe tbody tr th {\n",
       "        vertical-align: top;\n",
       "    }\n",
       "\n",
       "    .dataframe thead tr th {\n",
       "        text-align: left;\n",
       "    }\n",
       "\n",
       "    .dataframe thead tr:last-of-type th {\n",
       "        text-align: right;\n",
       "    }\n",
       "</style>\n",
       "<table border=\"1\" class=\"dataframe\">\n",
       "  <thead>\n",
       "    <tr>\n",
       "      <th></th>\n",
       "      <th colspan=\"2\" halign=\"left\">Office L1</th>\n",
       "      <th colspan=\"2\" halign=\"left\">Office L2</th>\n",
       "      <th colspan=\"2\" halign=\"left\">Office S3</th>\n",
       "      <th colspan=\"2\" halign=\"left\">Home 1</th>\n",
       "    </tr>\n",
       "    <tr>\n",
       "      <th></th>\n",
       "      <th>Train BA</th>\n",
       "      <th>Validation BA</th>\n",
       "      <th>Train BA</th>\n",
       "      <th>Validation BA</th>\n",
       "      <th>Train BA</th>\n",
       "      <th>Validation BA</th>\n",
       "      <th>Train BA</th>\n",
       "      <th>Validation BA</th>\n",
       "    </tr>\n",
       "    <tr>\n",
       "      <th>label</th>\n",
       "      <th></th>\n",
       "      <th></th>\n",
       "      <th></th>\n",
       "      <th></th>\n",
       "      <th></th>\n",
       "      <th></th>\n",
       "      <th></th>\n",
       "      <th></th>\n",
       "    </tr>\n",
       "  </thead>\n",
       "  <tbody>\n",
       "    <tr>\n",
       "      <th>No shift features</th>\n",
       "      <td>79.3</td>\n",
       "      <td>67.6</td>\n",
       "      <td>82.0</td>\n",
       "      <td>59.6</td>\n",
       "      <td>57.3</td>\n",
       "      <td>52.3</td>\n",
       "      <td>83.9</td>\n",
       "      <td>65.3</td>\n",
       "    </tr>\n",
       "    <tr>\n",
       "      <th>+1 hour ago</th>\n",
       "      <td>83.4</td>\n",
       "      <td>71.6</td>\n",
       "      <td>85.0</td>\n",
       "      <td>63.3</td>\n",
       "      <td>62.1</td>\n",
       "      <td>54.8</td>\n",
       "      <td>85.8</td>\n",
       "      <td>65.0</td>\n",
       "    </tr>\n",
       "    <tr>\n",
       "      <th>+2 hours ago</th>\n",
       "      <td>86.0</td>\n",
       "      <td>74.0</td>\n",
       "      <td>86.8</td>\n",
       "      <td>65.0</td>\n",
       "      <td>64.4</td>\n",
       "      <td>55.3</td>\n",
       "      <td>86.7</td>\n",
       "      <td>65.7</td>\n",
       "    </tr>\n",
       "    <tr>\n",
       "      <th>+3 hours ago</th>\n",
       "      <td>87.7</td>\n",
       "      <td>74.1</td>\n",
       "      <td>88.5</td>\n",
       "      <td>65.5</td>\n",
       "      <td>65.5</td>\n",
       "      <td>55.7</td>\n",
       "      <td>88.1</td>\n",
       "      <td>67.2</td>\n",
       "    </tr>\n",
       "    <tr>\n",
       "      <th>+4 hours ago</th>\n",
       "      <td>88.6</td>\n",
       "      <td>74.0</td>\n",
       "      <td>89.6</td>\n",
       "      <td>66.3</td>\n",
       "      <td>67.1</td>\n",
       "      <td>56.8</td>\n",
       "      <td>88.6</td>\n",
       "      <td>66.7</td>\n",
       "    </tr>\n",
       "    <tr>\n",
       "      <th>+5 hours ago</th>\n",
       "      <td>89.2</td>\n",
       "      <td>75.7</td>\n",
       "      <td>90.2</td>\n",
       "      <td>66.1</td>\n",
       "      <td>69.2</td>\n",
       "      <td>56.3</td>\n",
       "      <td>89.2</td>\n",
       "      <td>67.1</td>\n",
       "    </tr>\n",
       "    <tr>\n",
       "      <th>+6 hours ago</th>\n",
       "      <td>89.6</td>\n",
       "      <td>75.7</td>\n",
       "      <td>90.9</td>\n",
       "      <td>67.3</td>\n",
       "      <td>69.4</td>\n",
       "      <td>56.4</td>\n",
       "      <td>90.3</td>\n",
       "      <td>66.1</td>\n",
       "    </tr>\n",
       "    <tr>\n",
       "      <th>+7 hours ago</th>\n",
       "      <td>90.7</td>\n",
       "      <td>76.6</td>\n",
       "      <td>91.3</td>\n",
       "      <td>68.5</td>\n",
       "      <td>71.1</td>\n",
       "      <td>56.7</td>\n",
       "      <td>89.8</td>\n",
       "      <td>66.5</td>\n",
       "    </tr>\n",
       "    <tr>\n",
       "      <th>+8 hours ago</th>\n",
       "      <td>91.1</td>\n",
       "      <td>77.4</td>\n",
       "      <td>91.5</td>\n",
       "      <td>69.9</td>\n",
       "      <td>72.4</td>\n",
       "      <td>56.3</td>\n",
       "      <td>90.0</td>\n",
       "      <td>66.1</td>\n",
       "    </tr>\n",
       "    <tr>\n",
       "      <th>+9 hours ago</th>\n",
       "      <td>94.5</td>\n",
       "      <td>77.4</td>\n",
       "      <td>95.9</td>\n",
       "      <td>69.5</td>\n",
       "      <td>83.6</td>\n",
       "      <td>55.3</td>\n",
       "      <td>94.2</td>\n",
       "      <td>66.9</td>\n",
       "    </tr>\n",
       "    <tr>\n",
       "      <th>+10 hours ago</th>\n",
       "      <td>94.9</td>\n",
       "      <td>76.2</td>\n",
       "      <td>96.0</td>\n",
       "      <td>70.3</td>\n",
       "      <td>85.3</td>\n",
       "      <td>55.6</td>\n",
       "      <td>94.5</td>\n",
       "      <td>66.3</td>\n",
       "    </tr>\n",
       "    <tr>\n",
       "      <th>+11 hours ago</th>\n",
       "      <td>94.9</td>\n",
       "      <td>77.4</td>\n",
       "      <td>96.3</td>\n",
       "      <td>70.5</td>\n",
       "      <td>86.0</td>\n",
       "      <td>55.9</td>\n",
       "      <td>94.8</td>\n",
       "      <td>66.1</td>\n",
       "    </tr>\n",
       "    <tr>\n",
       "      <th>+12 hours ago</th>\n",
       "      <td>95.0</td>\n",
       "      <td>76.5</td>\n",
       "      <td>96.3</td>\n",
       "      <td>70.2</td>\n",
       "      <td>86.3</td>\n",
       "      <td>55.8</td>\n",
       "      <td>94.7</td>\n",
       "      <td>66.8</td>\n",
       "    </tr>\n",
       "  </tbody>\n",
       "</table>\n",
       "</div>"
      ],
      "text/plain": [
       "                  Office L1               Office L2               Office S3  \\\n",
       "                   Train BA Validation BA  Train BA Validation BA  Train BA   \n",
       "label                                                                         \n",
       "No shift features      79.3          67.6      82.0          59.6      57.3   \n",
       "+1 hour ago            83.4          71.6      85.0          63.3      62.1   \n",
       "+2 hours ago           86.0          74.0      86.8          65.0      64.4   \n",
       "+3 hours ago           87.7          74.1      88.5          65.5      65.5   \n",
       "+4 hours ago           88.6          74.0      89.6          66.3      67.1   \n",
       "+5 hours ago           89.2          75.7      90.2          66.1      69.2   \n",
       "+6 hours ago           89.6          75.7      90.9          67.3      69.4   \n",
       "+7 hours ago           90.7          76.6      91.3          68.5      71.1   \n",
       "+8 hours ago           91.1          77.4      91.5          69.9      72.4   \n",
       "+9 hours ago           94.5          77.4      95.9          69.5      83.6   \n",
       "+10 hours ago          94.9          76.2      96.0          70.3      85.3   \n",
       "+11 hours ago          94.9          77.4      96.3          70.5      86.0   \n",
       "+12 hours ago          95.0          76.5      96.3          70.2      86.3   \n",
       "\n",
       "                                  Home 1                \n",
       "                  Validation BA Train BA Validation BA  \n",
       "label                                                   \n",
       "No shift features          52.3     83.9          65.3  \n",
       "+1 hour ago                54.8     85.8          65.0  \n",
       "+2 hours ago               55.3     86.7          65.7  \n",
       "+3 hours ago               55.7     88.1          67.2  \n",
       "+4 hours ago               56.8     88.6          66.7  \n",
       "+5 hours ago               56.3     89.2          67.1  \n",
       "+6 hours ago               56.4     90.3          66.1  \n",
       "+7 hours ago               56.7     89.8          66.5  \n",
       "+8 hours ago               56.3     90.0          66.1  \n",
       "+9 hours ago               55.3     94.2          66.9  \n",
       "+10 hours ago              55.6     94.5          66.3  \n",
       "+11 hours ago              55.9     94.8          66.1  \n",
       "+12 hours ago              55.8     94.7          66.8  "
      ]
     },
     "execution_count": 7,
     "metadata": {},
     "output_type": "execute_result"
    }
   ],
   "source": [
    "experiments = {\n",
    "    'No shift features': [],\n",
    "    '+1 hour ago': [-6],\n",
    "    '+2 hours ago': [-6, -12],\n",
    "    '+3 hours ago': [-6, -12, -18],\n",
    "    '+4 hours ago': [-6, -12, -18, -24],\n",
    "    '+5 hours ago': [-6, -12, -18, -24, -30],\n",
    "    '+6 hours ago': [-6, -12, -18, -24, -30, -36],\n",
    "    '+7 hours ago': [-6, -12, -18, -24, -30, -36, -42],\n",
    "    '+8 hours ago': [-6, -12, -18, -24, -30, -36, -42, -48],\n",
    "    '+9 hours ago': [-6, -12, -18, -24, -30, -36, -42, -48, -54],\n",
    "    '+10 hours ago': [-6, -12, -18, -24, -30, -36, -42, -48, -54, -60],\n",
    "    '+11 hours ago': [-6, -12, -18, -24, -30, -36, -42, -48, -54, -60, -66],\n",
    "    '+12 hours ago': [-6, -12, -18, -24, -30, -36, -42, -48, -54, -60, -66, -72],\n",
    "}\n",
    "\n",
    "d = {}\n",
    "for room, data in rooms.items():\n",
    "    d[room] = pd.DataFrame(\n",
    "        columns=['label', 'Train BA', 'Validation BA'],\n",
    "        data=[[label, *train_eval(model, data, shifts=shifts)] for label, shifts in experiments.items()]\n",
    "    ).set_index('label')\n",
    "\n",
    "df_shifts_results = pd.concat(d, axis=1)\n",
    "df_shifts_results\n"
   ]
  },
  {
   "cell_type": "code",
   "execution_count": 8,
   "metadata": {},
   "outputs": [
    {
     "data": {
      "application/vnd.plotly.v1+json": {
       "config": {
        "plotlyServerURL": "https://plot.ly"
       },
       "data": [
        {
         "mode": "lines+markers",
         "name": "Office L1",
         "type": "scatter",
         "x": [
          0,
          1,
          2,
          3,
          4,
          5,
          6,
          7,
          8,
          9,
          10,
          11,
          12
         ],
         "y": [
          67.6,
          71.6,
          74,
          74.1,
          74,
          75.7,
          75.7,
          76.6,
          77.4,
          77.4,
          76.2,
          77.4,
          76.5
         ]
        },
        {
         "mode": "lines+markers",
         "name": "Office L2",
         "type": "scatter",
         "x": [
          0,
          1,
          2,
          3,
          4,
          5,
          6,
          7,
          8,
          9,
          10,
          11,
          12
         ],
         "y": [
          59.6,
          63.3,
          65,
          65.5,
          66.3,
          66.1,
          67.3,
          68.5,
          69.9,
          69.5,
          70.3,
          70.5,
          70.2
         ]
        },
        {
         "mode": "lines+markers",
         "name": "Office S3",
         "type": "scatter",
         "x": [
          0,
          1,
          2,
          3,
          4,
          5,
          6,
          7,
          8,
          9,
          10,
          11,
          12
         ],
         "y": [
          52.3,
          54.8,
          55.3,
          55.7,
          56.8,
          56.3,
          56.4,
          56.7,
          56.3,
          55.3,
          55.6,
          55.9,
          55.8
         ]
        },
        {
         "mode": "lines+markers",
         "name": "Home 1",
         "type": "scatter",
         "x": [
          0,
          1,
          2,
          3,
          4,
          5,
          6,
          7,
          8,
          9,
          10,
          11,
          12
         ],
         "y": [
          65.3,
          65,
          65.7,
          67.2,
          66.7,
          67.1,
          66.1,
          66.5,
          66.1,
          66.9,
          66.3,
          66.1,
          66.8
         ]
        }
       ],
       "layout": {
        "height": 500,
        "legend": {
         "orientation": "h",
         "x": 0.5,
         "xanchor": "center"
        },
        "margin": {
         "b": 0,
         "l": 0,
         "r": 0,
         "t": 0
        },
        "template": {
         "data": {
          "bar": [
           {
            "error_x": {
             "color": "#2a3f5f"
            },
            "error_y": {
             "color": "#2a3f5f"
            },
            "marker": {
             "line": {
              "color": "#E5ECF6",
              "width": 0.5
             },
             "pattern": {
              "fillmode": "overlay",
              "size": 10,
              "solidity": 0.2
             }
            },
            "type": "bar"
           }
          ],
          "barpolar": [
           {
            "marker": {
             "line": {
              "color": "#E5ECF6",
              "width": 0.5
             },
             "pattern": {
              "fillmode": "overlay",
              "size": 10,
              "solidity": 0.2
             }
            },
            "type": "barpolar"
           }
          ],
          "carpet": [
           {
            "aaxis": {
             "endlinecolor": "#2a3f5f",
             "gridcolor": "white",
             "linecolor": "white",
             "minorgridcolor": "white",
             "startlinecolor": "#2a3f5f"
            },
            "baxis": {
             "endlinecolor": "#2a3f5f",
             "gridcolor": "white",
             "linecolor": "white",
             "minorgridcolor": "white",
             "startlinecolor": "#2a3f5f"
            },
            "type": "carpet"
           }
          ],
          "choropleth": [
           {
            "colorbar": {
             "outlinewidth": 0,
             "ticks": ""
            },
            "type": "choropleth"
           }
          ],
          "contour": [
           {
            "colorbar": {
             "outlinewidth": 0,
             "ticks": ""
            },
            "colorscale": [
             [
              0,
              "#0d0887"
             ],
             [
              0.1111111111111111,
              "#46039f"
             ],
             [
              0.2222222222222222,
              "#7201a8"
             ],
             [
              0.3333333333333333,
              "#9c179e"
             ],
             [
              0.4444444444444444,
              "#bd3786"
             ],
             [
              0.5555555555555556,
              "#d8576b"
             ],
             [
              0.6666666666666666,
              "#ed7953"
             ],
             [
              0.7777777777777778,
              "#fb9f3a"
             ],
             [
              0.8888888888888888,
              "#fdca26"
             ],
             [
              1,
              "#f0f921"
             ]
            ],
            "type": "contour"
           }
          ],
          "contourcarpet": [
           {
            "colorbar": {
             "outlinewidth": 0,
             "ticks": ""
            },
            "type": "contourcarpet"
           }
          ],
          "heatmap": [
           {
            "colorbar": {
             "outlinewidth": 0,
             "ticks": ""
            },
            "colorscale": [
             [
              0,
              "#0d0887"
             ],
             [
              0.1111111111111111,
              "#46039f"
             ],
             [
              0.2222222222222222,
              "#7201a8"
             ],
             [
              0.3333333333333333,
              "#9c179e"
             ],
             [
              0.4444444444444444,
              "#bd3786"
             ],
             [
              0.5555555555555556,
              "#d8576b"
             ],
             [
              0.6666666666666666,
              "#ed7953"
             ],
             [
              0.7777777777777778,
              "#fb9f3a"
             ],
             [
              0.8888888888888888,
              "#fdca26"
             ],
             [
              1,
              "#f0f921"
             ]
            ],
            "type": "heatmap"
           }
          ],
          "heatmapgl": [
           {
            "colorbar": {
             "outlinewidth": 0,
             "ticks": ""
            },
            "colorscale": [
             [
              0,
              "#0d0887"
             ],
             [
              0.1111111111111111,
              "#46039f"
             ],
             [
              0.2222222222222222,
              "#7201a8"
             ],
             [
              0.3333333333333333,
              "#9c179e"
             ],
             [
              0.4444444444444444,
              "#bd3786"
             ],
             [
              0.5555555555555556,
              "#d8576b"
             ],
             [
              0.6666666666666666,
              "#ed7953"
             ],
             [
              0.7777777777777778,
              "#fb9f3a"
             ],
             [
              0.8888888888888888,
              "#fdca26"
             ],
             [
              1,
              "#f0f921"
             ]
            ],
            "type": "heatmapgl"
           }
          ],
          "histogram": [
           {
            "marker": {
             "pattern": {
              "fillmode": "overlay",
              "size": 10,
              "solidity": 0.2
             }
            },
            "type": "histogram"
           }
          ],
          "histogram2d": [
           {
            "colorbar": {
             "outlinewidth": 0,
             "ticks": ""
            },
            "colorscale": [
             [
              0,
              "#0d0887"
             ],
             [
              0.1111111111111111,
              "#46039f"
             ],
             [
              0.2222222222222222,
              "#7201a8"
             ],
             [
              0.3333333333333333,
              "#9c179e"
             ],
             [
              0.4444444444444444,
              "#bd3786"
             ],
             [
              0.5555555555555556,
              "#d8576b"
             ],
             [
              0.6666666666666666,
              "#ed7953"
             ],
             [
              0.7777777777777778,
              "#fb9f3a"
             ],
             [
              0.8888888888888888,
              "#fdca26"
             ],
             [
              1,
              "#f0f921"
             ]
            ],
            "type": "histogram2d"
           }
          ],
          "histogram2dcontour": [
           {
            "colorbar": {
             "outlinewidth": 0,
             "ticks": ""
            },
            "colorscale": [
             [
              0,
              "#0d0887"
             ],
             [
              0.1111111111111111,
              "#46039f"
             ],
             [
              0.2222222222222222,
              "#7201a8"
             ],
             [
              0.3333333333333333,
              "#9c179e"
             ],
             [
              0.4444444444444444,
              "#bd3786"
             ],
             [
              0.5555555555555556,
              "#d8576b"
             ],
             [
              0.6666666666666666,
              "#ed7953"
             ],
             [
              0.7777777777777778,
              "#fb9f3a"
             ],
             [
              0.8888888888888888,
              "#fdca26"
             ],
             [
              1,
              "#f0f921"
             ]
            ],
            "type": "histogram2dcontour"
           }
          ],
          "mesh3d": [
           {
            "colorbar": {
             "outlinewidth": 0,
             "ticks": ""
            },
            "type": "mesh3d"
           }
          ],
          "parcoords": [
           {
            "line": {
             "colorbar": {
              "outlinewidth": 0,
              "ticks": ""
             }
            },
            "type": "parcoords"
           }
          ],
          "pie": [
           {
            "automargin": true,
            "type": "pie"
           }
          ],
          "scatter": [
           {
            "fillpattern": {
             "fillmode": "overlay",
             "size": 10,
             "solidity": 0.2
            },
            "type": "scatter"
           }
          ],
          "scatter3d": [
           {
            "line": {
             "colorbar": {
              "outlinewidth": 0,
              "ticks": ""
             }
            },
            "marker": {
             "colorbar": {
              "outlinewidth": 0,
              "ticks": ""
             }
            },
            "type": "scatter3d"
           }
          ],
          "scattercarpet": [
           {
            "marker": {
             "colorbar": {
              "outlinewidth": 0,
              "ticks": ""
             }
            },
            "type": "scattercarpet"
           }
          ],
          "scattergeo": [
           {
            "marker": {
             "colorbar": {
              "outlinewidth": 0,
              "ticks": ""
             }
            },
            "type": "scattergeo"
           }
          ],
          "scattergl": [
           {
            "marker": {
             "colorbar": {
              "outlinewidth": 0,
              "ticks": ""
             }
            },
            "type": "scattergl"
           }
          ],
          "scattermapbox": [
           {
            "marker": {
             "colorbar": {
              "outlinewidth": 0,
              "ticks": ""
             }
            },
            "type": "scattermapbox"
           }
          ],
          "scatterpolar": [
           {
            "marker": {
             "colorbar": {
              "outlinewidth": 0,
              "ticks": ""
             }
            },
            "type": "scatterpolar"
           }
          ],
          "scatterpolargl": [
           {
            "marker": {
             "colorbar": {
              "outlinewidth": 0,
              "ticks": ""
             }
            },
            "type": "scatterpolargl"
           }
          ],
          "scatterternary": [
           {
            "marker": {
             "colorbar": {
              "outlinewidth": 0,
              "ticks": ""
             }
            },
            "type": "scatterternary"
           }
          ],
          "surface": [
           {
            "colorbar": {
             "outlinewidth": 0,
             "ticks": ""
            },
            "colorscale": [
             [
              0,
              "#0d0887"
             ],
             [
              0.1111111111111111,
              "#46039f"
             ],
             [
              0.2222222222222222,
              "#7201a8"
             ],
             [
              0.3333333333333333,
              "#9c179e"
             ],
             [
              0.4444444444444444,
              "#bd3786"
             ],
             [
              0.5555555555555556,
              "#d8576b"
             ],
             [
              0.6666666666666666,
              "#ed7953"
             ],
             [
              0.7777777777777778,
              "#fb9f3a"
             ],
             [
              0.8888888888888888,
              "#fdca26"
             ],
             [
              1,
              "#f0f921"
             ]
            ],
            "type": "surface"
           }
          ],
          "table": [
           {
            "cells": {
             "fill": {
              "color": "#EBF0F8"
             },
             "line": {
              "color": "white"
             }
            },
            "header": {
             "fill": {
              "color": "#C8D4E3"
             },
             "line": {
              "color": "white"
             }
            },
            "type": "table"
           }
          ]
         },
         "layout": {
          "annotationdefaults": {
           "arrowcolor": "#2a3f5f",
           "arrowhead": 0,
           "arrowwidth": 1
          },
          "autotypenumbers": "strict",
          "coloraxis": {
           "colorbar": {
            "outlinewidth": 0,
            "ticks": ""
           }
          },
          "colorscale": {
           "diverging": [
            [
             0,
             "#8e0152"
            ],
            [
             0.1,
             "#c51b7d"
            ],
            [
             0.2,
             "#de77ae"
            ],
            [
             0.3,
             "#f1b6da"
            ],
            [
             0.4,
             "#fde0ef"
            ],
            [
             0.5,
             "#f7f7f7"
            ],
            [
             0.6,
             "#e6f5d0"
            ],
            [
             0.7,
             "#b8e186"
            ],
            [
             0.8,
             "#7fbc41"
            ],
            [
             0.9,
             "#4d9221"
            ],
            [
             1,
             "#276419"
            ]
           ],
           "sequential": [
            [
             0,
             "#0d0887"
            ],
            [
             0.1111111111111111,
             "#46039f"
            ],
            [
             0.2222222222222222,
             "#7201a8"
            ],
            [
             0.3333333333333333,
             "#9c179e"
            ],
            [
             0.4444444444444444,
             "#bd3786"
            ],
            [
             0.5555555555555556,
             "#d8576b"
            ],
            [
             0.6666666666666666,
             "#ed7953"
            ],
            [
             0.7777777777777778,
             "#fb9f3a"
            ],
            [
             0.8888888888888888,
             "#fdca26"
            ],
            [
             1,
             "#f0f921"
            ]
           ],
           "sequentialminus": [
            [
             0,
             "#0d0887"
            ],
            [
             0.1111111111111111,
             "#46039f"
            ],
            [
             0.2222222222222222,
             "#7201a8"
            ],
            [
             0.3333333333333333,
             "#9c179e"
            ],
            [
             0.4444444444444444,
             "#bd3786"
            ],
            [
             0.5555555555555556,
             "#d8576b"
            ],
            [
             0.6666666666666666,
             "#ed7953"
            ],
            [
             0.7777777777777778,
             "#fb9f3a"
            ],
            [
             0.8888888888888888,
             "#fdca26"
            ],
            [
             1,
             "#f0f921"
            ]
           ]
          },
          "colorway": [
           "#636efa",
           "#EF553B",
           "#00cc96",
           "#ab63fa",
           "#FFA15A",
           "#19d3f3",
           "#FF6692",
           "#B6E880",
           "#FF97FF",
           "#FECB52"
          ],
          "font": {
           "color": "#2a3f5f"
          },
          "geo": {
           "bgcolor": "white",
           "lakecolor": "white",
           "landcolor": "#E5ECF6",
           "showlakes": true,
           "showland": true,
           "subunitcolor": "white"
          },
          "hoverlabel": {
           "align": "left"
          },
          "hovermode": "closest",
          "mapbox": {
           "style": "light"
          },
          "paper_bgcolor": "white",
          "plot_bgcolor": "#E5ECF6",
          "polar": {
           "angularaxis": {
            "gridcolor": "white",
            "linecolor": "white",
            "ticks": ""
           },
           "bgcolor": "#E5ECF6",
           "radialaxis": {
            "gridcolor": "white",
            "linecolor": "white",
            "ticks": ""
           }
          },
          "scene": {
           "xaxis": {
            "backgroundcolor": "#E5ECF6",
            "gridcolor": "white",
            "gridwidth": 2,
            "linecolor": "white",
            "showbackground": true,
            "ticks": "",
            "zerolinecolor": "white"
           },
           "yaxis": {
            "backgroundcolor": "#E5ECF6",
            "gridcolor": "white",
            "gridwidth": 2,
            "linecolor": "white",
            "showbackground": true,
            "ticks": "",
            "zerolinecolor": "white"
           },
           "zaxis": {
            "backgroundcolor": "#E5ECF6",
            "gridcolor": "white",
            "gridwidth": 2,
            "linecolor": "white",
            "showbackground": true,
            "ticks": "",
            "zerolinecolor": "white"
           }
          },
          "shapedefaults": {
           "line": {
            "color": "#2a3f5f"
           }
          },
          "ternary": {
           "aaxis": {
            "gridcolor": "white",
            "linecolor": "white",
            "ticks": ""
           },
           "baxis": {
            "gridcolor": "white",
            "linecolor": "white",
            "ticks": ""
           },
           "bgcolor": "#E5ECF6",
           "caxis": {
            "gridcolor": "white",
            "linecolor": "white",
            "ticks": ""
           }
          },
          "title": {
           "x": 0.05
          },
          "xaxis": {
           "automargin": true,
           "gridcolor": "white",
           "linecolor": "white",
           "ticks": "",
           "title": {
            "standoff": 15
           },
           "zerolinecolor": "white",
           "zerolinewidth": 2
          },
          "yaxis": {
           "automargin": true,
           "gridcolor": "white",
           "linecolor": "white",
           "ticks": "",
           "title": {
            "standoff": 15
           },
           "zerolinecolor": "white",
           "zerolinewidth": 2
          }
         }
        },
        "width": 500,
        "xaxis": {
         "dtick": 1,
         "range": [
          0,
          12
         ],
         "title": {
          "text": "Hours of historical shift features (cumulative)"
         }
        },
        "yaxis": {
         "range": [
          50,
          85
         ],
         "title": {
          "text": "Balanced accuracy"
         }
        }
       }
      }
     },
     "metadata": {},
     "output_type": "display_data"
    }
   ],
   "source": [
    "fig = go.Figure()\n",
    "fig.add_trace(go.Scatter(x=list(range(13)), y=df_shifts_results['Office L1']['Validation BA'], mode='lines+markers', name='Office L1'))\n",
    "fig.add_trace(go.Scatter(x=list(range(13)), y=df_shifts_results['Office L2']['Validation BA'], mode='lines+markers', name='Office L2'))\n",
    "fig.add_trace(go.Scatter(x=list(range(13)), y=df_shifts_results['Office S3']['Validation BA'], mode='lines+markers', name='Office S3'))\n",
    "fig.add_trace(go.Scatter(x=list(range(13)), y=df_shifts_results['Home 1']['Validation BA'], mode='lines+markers', name='Home 1'))\n",
    "fig.update_layout(\n",
    "    xaxis_title='Hours of historical shift features (cumulative)',\n",
    "    xaxis_dtick=1,\n",
    "    xaxis_range=[0, 12],\n",
    "    yaxis_title='Balanced accuracy',\n",
    "    yaxis_range=[50, 85],\n",
    "    width=500,\n",
    "    height=500,\n",
    "    margin={'l': 0, 'r': 0, 't': 0, 'b': 0},\n",
    "    legend_orientation='h',\n",
    "    legend_xanchor='center',\n",
    "    legend_x=0.5,\n",
    ")\n",
    "fig.show()"
   ]
  },
  {
   "cell_type": "markdown",
   "metadata": {},
   "source": [
    "# Retrospective Analysis"
   ]
  },
  {
   "cell_type": "code",
   "execution_count": 9,
   "metadata": {},
   "outputs": [
    {
     "data": {
      "text/html": [
       "<div>\n",
       "<style scoped>\n",
       "    .dataframe tbody tr th:only-of-type {\n",
       "        vertical-align: middle;\n",
       "    }\n",
       "\n",
       "    .dataframe tbody tr th {\n",
       "        vertical-align: top;\n",
       "    }\n",
       "\n",
       "    .dataframe thead tr th {\n",
       "        text-align: left;\n",
       "    }\n",
       "\n",
       "    .dataframe thead tr:last-of-type th {\n",
       "        text-align: right;\n",
       "    }\n",
       "</style>\n",
       "<table border=\"1\" class=\"dataframe\">\n",
       "  <thead>\n",
       "    <tr>\n",
       "      <th></th>\n",
       "      <th colspan=\"2\" halign=\"left\">Office L1</th>\n",
       "      <th colspan=\"2\" halign=\"left\">Office L2</th>\n",
       "      <th colspan=\"2\" halign=\"left\">Office S3</th>\n",
       "      <th colspan=\"2\" halign=\"left\">Home 1</th>\n",
       "    </tr>\n",
       "    <tr>\n",
       "      <th></th>\n",
       "      <th>Train BA</th>\n",
       "      <th>Validation BA</th>\n",
       "      <th>Train BA</th>\n",
       "      <th>Validation BA</th>\n",
       "      <th>Train BA</th>\n",
       "      <th>Validation BA</th>\n",
       "      <th>Train BA</th>\n",
       "      <th>Validation BA</th>\n",
       "    </tr>\n",
       "    <tr>\n",
       "      <th>label</th>\n",
       "      <th></th>\n",
       "      <th></th>\n",
       "      <th></th>\n",
       "      <th></th>\n",
       "      <th></th>\n",
       "      <th></th>\n",
       "      <th></th>\n",
       "      <th></th>\n",
       "    </tr>\n",
       "  </thead>\n",
       "  <tbody>\n",
       "    <tr>\n",
       "      <th>Up to 8 hours ago</th>\n",
       "      <td>91.1</td>\n",
       "      <td>77.4</td>\n",
       "      <td>91.5</td>\n",
       "      <td>69.9</td>\n",
       "      <td>72.4</td>\n",
       "      <td>56.3</td>\n",
       "      <td>90.0</td>\n",
       "      <td>66.1</td>\n",
       "    </tr>\n",
       "    <tr>\n",
       "      <th>+1 hour later</th>\n",
       "      <td>96.7</td>\n",
       "      <td>80.4</td>\n",
       "      <td>98.1</td>\n",
       "      <td>71.8</td>\n",
       "      <td>85.0</td>\n",
       "      <td>57.9</td>\n",
       "      <td>95.9</td>\n",
       "      <td>67.0</td>\n",
       "    </tr>\n",
       "    <tr>\n",
       "      <th>+2 hours later</th>\n",
       "      <td>97.1</td>\n",
       "      <td>80.3</td>\n",
       "      <td>98.5</td>\n",
       "      <td>71.6</td>\n",
       "      <td>87.3</td>\n",
       "      <td>59.3</td>\n",
       "      <td>96.0</td>\n",
       "      <td>66.9</td>\n",
       "    </tr>\n",
       "    <tr>\n",
       "      <th>+3 hours later</th>\n",
       "      <td>97.4</td>\n",
       "      <td>80.5</td>\n",
       "      <td>98.3</td>\n",
       "      <td>71.4</td>\n",
       "      <td>87.6</td>\n",
       "      <td>59.2</td>\n",
       "      <td>96.4</td>\n",
       "      <td>68.1</td>\n",
       "    </tr>\n",
       "    <tr>\n",
       "      <th>+4 hours later</th>\n",
       "      <td>97.5</td>\n",
       "      <td>79.8</td>\n",
       "      <td>98.7</td>\n",
       "      <td>70.4</td>\n",
       "      <td>89.3</td>\n",
       "      <td>61.0</td>\n",
       "      <td>96.7</td>\n",
       "      <td>68.1</td>\n",
       "    </tr>\n",
       "    <tr>\n",
       "      <th>+5 hours later</th>\n",
       "      <td>97.8</td>\n",
       "      <td>80.7</td>\n",
       "      <td>98.6</td>\n",
       "      <td>72.4</td>\n",
       "      <td>90.2</td>\n",
       "      <td>59.9</td>\n",
       "      <td>96.6</td>\n",
       "      <td>68.7</td>\n",
       "    </tr>\n",
       "    <tr>\n",
       "      <th>+6 hours later</th>\n",
       "      <td>97.8</td>\n",
       "      <td>80.4</td>\n",
       "      <td>98.8</td>\n",
       "      <td>71.9</td>\n",
       "      <td>90.9</td>\n",
       "      <td>60.7</td>\n",
       "      <td>96.7</td>\n",
       "      <td>68.7</td>\n",
       "    </tr>\n",
       "    <tr>\n",
       "      <th>+7 hours later</th>\n",
       "      <td>97.7</td>\n",
       "      <td>81.2</td>\n",
       "      <td>98.9</td>\n",
       "      <td>70.9</td>\n",
       "      <td>91.3</td>\n",
       "      <td>60.8</td>\n",
       "      <td>97.0</td>\n",
       "      <td>69.5</td>\n",
       "    </tr>\n",
       "    <tr>\n",
       "      <th>+8 hours later</th>\n",
       "      <td>97.7</td>\n",
       "      <td>79.0</td>\n",
       "      <td>99.0</td>\n",
       "      <td>69.4</td>\n",
       "      <td>92.7</td>\n",
       "      <td>60.0</td>\n",
       "      <td>96.8</td>\n",
       "      <td>69.4</td>\n",
       "    </tr>\n",
       "    <tr>\n",
       "      <th>+9 hours later</th>\n",
       "      <td>97.8</td>\n",
       "      <td>78.6</td>\n",
       "      <td>99.1</td>\n",
       "      <td>68.2</td>\n",
       "      <td>91.0</td>\n",
       "      <td>60.1</td>\n",
       "      <td>96.7</td>\n",
       "      <td>70.1</td>\n",
       "    </tr>\n",
       "    <tr>\n",
       "      <th>+10 hours later</th>\n",
       "      <td>98.2</td>\n",
       "      <td>78.9</td>\n",
       "      <td>99.2</td>\n",
       "      <td>68.4</td>\n",
       "      <td>92.8</td>\n",
       "      <td>60.2</td>\n",
       "      <td>97.2</td>\n",
       "      <td>69.6</td>\n",
       "    </tr>\n",
       "    <tr>\n",
       "      <th>+11 hours later</th>\n",
       "      <td>98.2</td>\n",
       "      <td>78.3</td>\n",
       "      <td>99.1</td>\n",
       "      <td>68.1</td>\n",
       "      <td>92.4</td>\n",
       "      <td>60.6</td>\n",
       "      <td>97.2</td>\n",
       "      <td>70.0</td>\n",
       "    </tr>\n",
       "    <tr>\n",
       "      <th>+12 hours later</th>\n",
       "      <td>98.4</td>\n",
       "      <td>77.2</td>\n",
       "      <td>99.2</td>\n",
       "      <td>67.0</td>\n",
       "      <td>92.8</td>\n",
       "      <td>60.8</td>\n",
       "      <td>97.3</td>\n",
       "      <td>70.2</td>\n",
       "    </tr>\n",
       "  </tbody>\n",
       "</table>\n",
       "</div>"
      ],
      "text/plain": [
       "                  Office L1               Office L2               Office S3  \\\n",
       "                   Train BA Validation BA  Train BA Validation BA  Train BA   \n",
       "label                                                                         \n",
       "Up to 8 hours ago      91.1          77.4      91.5          69.9      72.4   \n",
       "+1 hour later          96.7          80.4      98.1          71.8      85.0   \n",
       "+2 hours later         97.1          80.3      98.5          71.6      87.3   \n",
       "+3 hours later         97.4          80.5      98.3          71.4      87.6   \n",
       "+4 hours later         97.5          79.8      98.7          70.4      89.3   \n",
       "+5 hours later         97.8          80.7      98.6          72.4      90.2   \n",
       "+6 hours later         97.8          80.4      98.8          71.9      90.9   \n",
       "+7 hours later         97.7          81.2      98.9          70.9      91.3   \n",
       "+8 hours later         97.7          79.0      99.0          69.4      92.7   \n",
       "+9 hours later         97.8          78.6      99.1          68.2      91.0   \n",
       "+10 hours later        98.2          78.9      99.2          68.4      92.8   \n",
       "+11 hours later        98.2          78.3      99.1          68.1      92.4   \n",
       "+12 hours later        98.4          77.2      99.2          67.0      92.8   \n",
       "\n",
       "                                  Home 1                \n",
       "                  Validation BA Train BA Validation BA  \n",
       "label                                                   \n",
       "Up to 8 hours ago          56.3     90.0          66.1  \n",
       "+1 hour later              57.9     95.9          67.0  \n",
       "+2 hours later             59.3     96.0          66.9  \n",
       "+3 hours later             59.2     96.4          68.1  \n",
       "+4 hours later             61.0     96.7          68.1  \n",
       "+5 hours later             59.9     96.6          68.7  \n",
       "+6 hours later             60.7     96.7          68.7  \n",
       "+7 hours later             60.8     97.0          69.5  \n",
       "+8 hours later             60.0     96.8          69.4  \n",
       "+9 hours later             60.1     96.7          70.1  \n",
       "+10 hours later            60.2     97.2          69.6  \n",
       "+11 hours later            60.6     97.2          70.0  \n",
       "+12 hours later            60.8     97.3          70.2  "
      ]
     },
     "execution_count": 9,
     "metadata": {},
     "output_type": "execute_result"
    }
   ],
   "source": [
    "experiments = {\n",
    "    'Up to 8 hours ago': [-6, -12, -18, -24, -30, -36, -42, -48],\n",
    "    '+1 hour later': [-6, -12, -18, -24, -30, -36, -42, -48, 6],\n",
    "    '+2 hours later': [-6, -12, -18, -24, -30, -36, -42, -48, 6, 12],\n",
    "    '+3 hours later': [-6, -12, -18, -24, -30, -36, -42, -48, 6, 12, 18],\n",
    "    '+4 hours later': [-6, -12, -18, -24, -30, -36, -42, -48, 6, 12, 18, 24],\n",
    "    '+5 hours later': [-6, -12, -18, -24, -30, -36, -42, -48, 6, 12, 18, 24, 30],\n",
    "    '+6 hours later': [-6, -12, -18, -24, -30, -36, -42, -48, 6, 12, 18, 24, 30, 36],\n",
    "    '+7 hours later': [-6, -12, -18, -24, -30, -36, -42, -48, 6, 12, 18, 24, 30, 36, 42],\n",
    "    '+8 hours later': [-6, -12, -18, -24, -30, -36, -42, -48, 6, 12, 18, 24, 30, 36, 42, 48],\n",
    "    '+9 hours later': [-6, -12, -18, -24, -30, -36, -42, -48, 6, 12, 18, 24, 30, 36, 42, 48, 54],\n",
    "    '+10 hours later': [-6, -12, -18, -24, -30, -36, -42, -48, 6, 12, 18, 24, 30, 36, 42, 48, 54, 60],\n",
    "    '+11 hours later': [-6, -12, -18, -24, -30, -36, -42, -48, 6, 12, 18, 24, 30, 36, 42, 48, 54, 60, 66],\n",
    "    '+12 hours later': [-6, -12, -18, -24, -30, -36, -42, -48, 6, 12, 18, 24, 30, 36, 42, 48, 54, 60, 66, 72],\n",
    "}\n",
    "\n",
    "d = {}\n",
    "for room, data in rooms.items():\n",
    "    d[room] = pd.DataFrame(\n",
    "        columns=['label', 'Train BA', 'Validation BA'],\n",
    "        data=[[label, *train_eval(model, data, shifts=shifts)] for label, shifts in experiments.items()]\n",
    "    ).set_index('label')\n",
    "\n",
    "df_retro_results = pd.concat(d, axis=1)\n",
    "df_retro_results\n"
   ]
  },
  {
   "cell_type": "code",
   "execution_count": 10,
   "metadata": {},
   "outputs": [
    {
     "data": {
      "application/vnd.plotly.v1+json": {
       "config": {
        "plotlyServerURL": "https://plot.ly"
       },
       "data": [
        {
         "mode": "lines+markers",
         "name": "Office L1",
         "type": "scatter",
         "x": [
          0,
          1,
          2,
          3,
          4,
          5,
          6,
          7,
          8,
          9,
          10,
          11,
          12
         ],
         "y": [
          77.4,
          80.4,
          80.3,
          80.5,
          79.8,
          80.7,
          80.4,
          81.2,
          79,
          78.6,
          78.9,
          78.3,
          77.2
         ]
        },
        {
         "mode": "lines+markers",
         "name": "Office L2",
         "type": "scatter",
         "x": [
          0,
          1,
          2,
          3,
          4,
          5,
          6,
          7,
          8,
          9,
          10,
          11,
          12
         ],
         "y": [
          69.9,
          71.8,
          71.6,
          71.4,
          70.4,
          72.4,
          71.9,
          70.9,
          69.4,
          68.2,
          68.4,
          68.1,
          67
         ]
        },
        {
         "mode": "lines+markers",
         "name": "Office S3",
         "type": "scatter",
         "x": [
          0,
          1,
          2,
          3,
          4,
          5,
          6,
          7,
          8,
          9,
          10,
          11,
          12
         ],
         "y": [
          56.3,
          57.9,
          59.3,
          59.2,
          61,
          59.9,
          60.7,
          60.8,
          60,
          60.1,
          60.2,
          60.6,
          60.8
         ]
        },
        {
         "mode": "lines+markers",
         "name": "Home 1",
         "type": "scatter",
         "x": [
          0,
          1,
          2,
          3,
          4,
          5,
          6,
          7,
          8,
          9,
          10,
          11,
          12
         ],
         "y": [
          66.1,
          67,
          66.9,
          68.1,
          68.1,
          68.7,
          68.7,
          69.5,
          69.4,
          70.1,
          69.6,
          70,
          70.2
         ]
        }
       ],
       "layout": {
        "height": 500,
        "legend": {
         "orientation": "h",
         "x": 0.5,
         "xanchor": "center"
        },
        "margin": {
         "b": 0,
         "l": 0,
         "r": 0,
         "t": 0
        },
        "template": {
         "data": {
          "bar": [
           {
            "error_x": {
             "color": "#2a3f5f"
            },
            "error_y": {
             "color": "#2a3f5f"
            },
            "marker": {
             "line": {
              "color": "#E5ECF6",
              "width": 0.5
             },
             "pattern": {
              "fillmode": "overlay",
              "size": 10,
              "solidity": 0.2
             }
            },
            "type": "bar"
           }
          ],
          "barpolar": [
           {
            "marker": {
             "line": {
              "color": "#E5ECF6",
              "width": 0.5
             },
             "pattern": {
              "fillmode": "overlay",
              "size": 10,
              "solidity": 0.2
             }
            },
            "type": "barpolar"
           }
          ],
          "carpet": [
           {
            "aaxis": {
             "endlinecolor": "#2a3f5f",
             "gridcolor": "white",
             "linecolor": "white",
             "minorgridcolor": "white",
             "startlinecolor": "#2a3f5f"
            },
            "baxis": {
             "endlinecolor": "#2a3f5f",
             "gridcolor": "white",
             "linecolor": "white",
             "minorgridcolor": "white",
             "startlinecolor": "#2a3f5f"
            },
            "type": "carpet"
           }
          ],
          "choropleth": [
           {
            "colorbar": {
             "outlinewidth": 0,
             "ticks": ""
            },
            "type": "choropleth"
           }
          ],
          "contour": [
           {
            "colorbar": {
             "outlinewidth": 0,
             "ticks": ""
            },
            "colorscale": [
             [
              0,
              "#0d0887"
             ],
             [
              0.1111111111111111,
              "#46039f"
             ],
             [
              0.2222222222222222,
              "#7201a8"
             ],
             [
              0.3333333333333333,
              "#9c179e"
             ],
             [
              0.4444444444444444,
              "#bd3786"
             ],
             [
              0.5555555555555556,
              "#d8576b"
             ],
             [
              0.6666666666666666,
              "#ed7953"
             ],
             [
              0.7777777777777778,
              "#fb9f3a"
             ],
             [
              0.8888888888888888,
              "#fdca26"
             ],
             [
              1,
              "#f0f921"
             ]
            ],
            "type": "contour"
           }
          ],
          "contourcarpet": [
           {
            "colorbar": {
             "outlinewidth": 0,
             "ticks": ""
            },
            "type": "contourcarpet"
           }
          ],
          "heatmap": [
           {
            "colorbar": {
             "outlinewidth": 0,
             "ticks": ""
            },
            "colorscale": [
             [
              0,
              "#0d0887"
             ],
             [
              0.1111111111111111,
              "#46039f"
             ],
             [
              0.2222222222222222,
              "#7201a8"
             ],
             [
              0.3333333333333333,
              "#9c179e"
             ],
             [
              0.4444444444444444,
              "#bd3786"
             ],
             [
              0.5555555555555556,
              "#d8576b"
             ],
             [
              0.6666666666666666,
              "#ed7953"
             ],
             [
              0.7777777777777778,
              "#fb9f3a"
             ],
             [
              0.8888888888888888,
              "#fdca26"
             ],
             [
              1,
              "#f0f921"
             ]
            ],
            "type": "heatmap"
           }
          ],
          "heatmapgl": [
           {
            "colorbar": {
             "outlinewidth": 0,
             "ticks": ""
            },
            "colorscale": [
             [
              0,
              "#0d0887"
             ],
             [
              0.1111111111111111,
              "#46039f"
             ],
             [
              0.2222222222222222,
              "#7201a8"
             ],
             [
              0.3333333333333333,
              "#9c179e"
             ],
             [
              0.4444444444444444,
              "#bd3786"
             ],
             [
              0.5555555555555556,
              "#d8576b"
             ],
             [
              0.6666666666666666,
              "#ed7953"
             ],
             [
              0.7777777777777778,
              "#fb9f3a"
             ],
             [
              0.8888888888888888,
              "#fdca26"
             ],
             [
              1,
              "#f0f921"
             ]
            ],
            "type": "heatmapgl"
           }
          ],
          "histogram": [
           {
            "marker": {
             "pattern": {
              "fillmode": "overlay",
              "size": 10,
              "solidity": 0.2
             }
            },
            "type": "histogram"
           }
          ],
          "histogram2d": [
           {
            "colorbar": {
             "outlinewidth": 0,
             "ticks": ""
            },
            "colorscale": [
             [
              0,
              "#0d0887"
             ],
             [
              0.1111111111111111,
              "#46039f"
             ],
             [
              0.2222222222222222,
              "#7201a8"
             ],
             [
              0.3333333333333333,
              "#9c179e"
             ],
             [
              0.4444444444444444,
              "#bd3786"
             ],
             [
              0.5555555555555556,
              "#d8576b"
             ],
             [
              0.6666666666666666,
              "#ed7953"
             ],
             [
              0.7777777777777778,
              "#fb9f3a"
             ],
             [
              0.8888888888888888,
              "#fdca26"
             ],
             [
              1,
              "#f0f921"
             ]
            ],
            "type": "histogram2d"
           }
          ],
          "histogram2dcontour": [
           {
            "colorbar": {
             "outlinewidth": 0,
             "ticks": ""
            },
            "colorscale": [
             [
              0,
              "#0d0887"
             ],
             [
              0.1111111111111111,
              "#46039f"
             ],
             [
              0.2222222222222222,
              "#7201a8"
             ],
             [
              0.3333333333333333,
              "#9c179e"
             ],
             [
              0.4444444444444444,
              "#bd3786"
             ],
             [
              0.5555555555555556,
              "#d8576b"
             ],
             [
              0.6666666666666666,
              "#ed7953"
             ],
             [
              0.7777777777777778,
              "#fb9f3a"
             ],
             [
              0.8888888888888888,
              "#fdca26"
             ],
             [
              1,
              "#f0f921"
             ]
            ],
            "type": "histogram2dcontour"
           }
          ],
          "mesh3d": [
           {
            "colorbar": {
             "outlinewidth": 0,
             "ticks": ""
            },
            "type": "mesh3d"
           }
          ],
          "parcoords": [
           {
            "line": {
             "colorbar": {
              "outlinewidth": 0,
              "ticks": ""
             }
            },
            "type": "parcoords"
           }
          ],
          "pie": [
           {
            "automargin": true,
            "type": "pie"
           }
          ],
          "scatter": [
           {
            "fillpattern": {
             "fillmode": "overlay",
             "size": 10,
             "solidity": 0.2
            },
            "type": "scatter"
           }
          ],
          "scatter3d": [
           {
            "line": {
             "colorbar": {
              "outlinewidth": 0,
              "ticks": ""
             }
            },
            "marker": {
             "colorbar": {
              "outlinewidth": 0,
              "ticks": ""
             }
            },
            "type": "scatter3d"
           }
          ],
          "scattercarpet": [
           {
            "marker": {
             "colorbar": {
              "outlinewidth": 0,
              "ticks": ""
             }
            },
            "type": "scattercarpet"
           }
          ],
          "scattergeo": [
           {
            "marker": {
             "colorbar": {
              "outlinewidth": 0,
              "ticks": ""
             }
            },
            "type": "scattergeo"
           }
          ],
          "scattergl": [
           {
            "marker": {
             "colorbar": {
              "outlinewidth": 0,
              "ticks": ""
             }
            },
            "type": "scattergl"
           }
          ],
          "scattermapbox": [
           {
            "marker": {
             "colorbar": {
              "outlinewidth": 0,
              "ticks": ""
             }
            },
            "type": "scattermapbox"
           }
          ],
          "scatterpolar": [
           {
            "marker": {
             "colorbar": {
              "outlinewidth": 0,
              "ticks": ""
             }
            },
            "type": "scatterpolar"
           }
          ],
          "scatterpolargl": [
           {
            "marker": {
             "colorbar": {
              "outlinewidth": 0,
              "ticks": ""
             }
            },
            "type": "scatterpolargl"
           }
          ],
          "scatterternary": [
           {
            "marker": {
             "colorbar": {
              "outlinewidth": 0,
              "ticks": ""
             }
            },
            "type": "scatterternary"
           }
          ],
          "surface": [
           {
            "colorbar": {
             "outlinewidth": 0,
             "ticks": ""
            },
            "colorscale": [
             [
              0,
              "#0d0887"
             ],
             [
              0.1111111111111111,
              "#46039f"
             ],
             [
              0.2222222222222222,
              "#7201a8"
             ],
             [
              0.3333333333333333,
              "#9c179e"
             ],
             [
              0.4444444444444444,
              "#bd3786"
             ],
             [
              0.5555555555555556,
              "#d8576b"
             ],
             [
              0.6666666666666666,
              "#ed7953"
             ],
             [
              0.7777777777777778,
              "#fb9f3a"
             ],
             [
              0.8888888888888888,
              "#fdca26"
             ],
             [
              1,
              "#f0f921"
             ]
            ],
            "type": "surface"
           }
          ],
          "table": [
           {
            "cells": {
             "fill": {
              "color": "#EBF0F8"
             },
             "line": {
              "color": "white"
             }
            },
            "header": {
             "fill": {
              "color": "#C8D4E3"
             },
             "line": {
              "color": "white"
             }
            },
            "type": "table"
           }
          ]
         },
         "layout": {
          "annotationdefaults": {
           "arrowcolor": "#2a3f5f",
           "arrowhead": 0,
           "arrowwidth": 1
          },
          "autotypenumbers": "strict",
          "coloraxis": {
           "colorbar": {
            "outlinewidth": 0,
            "ticks": ""
           }
          },
          "colorscale": {
           "diverging": [
            [
             0,
             "#8e0152"
            ],
            [
             0.1,
             "#c51b7d"
            ],
            [
             0.2,
             "#de77ae"
            ],
            [
             0.3,
             "#f1b6da"
            ],
            [
             0.4,
             "#fde0ef"
            ],
            [
             0.5,
             "#f7f7f7"
            ],
            [
             0.6,
             "#e6f5d0"
            ],
            [
             0.7,
             "#b8e186"
            ],
            [
             0.8,
             "#7fbc41"
            ],
            [
             0.9,
             "#4d9221"
            ],
            [
             1,
             "#276419"
            ]
           ],
           "sequential": [
            [
             0,
             "#0d0887"
            ],
            [
             0.1111111111111111,
             "#46039f"
            ],
            [
             0.2222222222222222,
             "#7201a8"
            ],
            [
             0.3333333333333333,
             "#9c179e"
            ],
            [
             0.4444444444444444,
             "#bd3786"
            ],
            [
             0.5555555555555556,
             "#d8576b"
            ],
            [
             0.6666666666666666,
             "#ed7953"
            ],
            [
             0.7777777777777778,
             "#fb9f3a"
            ],
            [
             0.8888888888888888,
             "#fdca26"
            ],
            [
             1,
             "#f0f921"
            ]
           ],
           "sequentialminus": [
            [
             0,
             "#0d0887"
            ],
            [
             0.1111111111111111,
             "#46039f"
            ],
            [
             0.2222222222222222,
             "#7201a8"
            ],
            [
             0.3333333333333333,
             "#9c179e"
            ],
            [
             0.4444444444444444,
             "#bd3786"
            ],
            [
             0.5555555555555556,
             "#d8576b"
            ],
            [
             0.6666666666666666,
             "#ed7953"
            ],
            [
             0.7777777777777778,
             "#fb9f3a"
            ],
            [
             0.8888888888888888,
             "#fdca26"
            ],
            [
             1,
             "#f0f921"
            ]
           ]
          },
          "colorway": [
           "#636efa",
           "#EF553B",
           "#00cc96",
           "#ab63fa",
           "#FFA15A",
           "#19d3f3",
           "#FF6692",
           "#B6E880",
           "#FF97FF",
           "#FECB52"
          ],
          "font": {
           "color": "#2a3f5f"
          },
          "geo": {
           "bgcolor": "white",
           "lakecolor": "white",
           "landcolor": "#E5ECF6",
           "showlakes": true,
           "showland": true,
           "subunitcolor": "white"
          },
          "hoverlabel": {
           "align": "left"
          },
          "hovermode": "closest",
          "mapbox": {
           "style": "light"
          },
          "paper_bgcolor": "white",
          "plot_bgcolor": "#E5ECF6",
          "polar": {
           "angularaxis": {
            "gridcolor": "white",
            "linecolor": "white",
            "ticks": ""
           },
           "bgcolor": "#E5ECF6",
           "radialaxis": {
            "gridcolor": "white",
            "linecolor": "white",
            "ticks": ""
           }
          },
          "scene": {
           "xaxis": {
            "backgroundcolor": "#E5ECF6",
            "gridcolor": "white",
            "gridwidth": 2,
            "linecolor": "white",
            "showbackground": true,
            "ticks": "",
            "zerolinecolor": "white"
           },
           "yaxis": {
            "backgroundcolor": "#E5ECF6",
            "gridcolor": "white",
            "gridwidth": 2,
            "linecolor": "white",
            "showbackground": true,
            "ticks": "",
            "zerolinecolor": "white"
           },
           "zaxis": {
            "backgroundcolor": "#E5ECF6",
            "gridcolor": "white",
            "gridwidth": 2,
            "linecolor": "white",
            "showbackground": true,
            "ticks": "",
            "zerolinecolor": "white"
           }
          },
          "shapedefaults": {
           "line": {
            "color": "#2a3f5f"
           }
          },
          "ternary": {
           "aaxis": {
            "gridcolor": "white",
            "linecolor": "white",
            "ticks": ""
           },
           "baxis": {
            "gridcolor": "white",
            "linecolor": "white",
            "ticks": ""
           },
           "bgcolor": "#E5ECF6",
           "caxis": {
            "gridcolor": "white",
            "linecolor": "white",
            "ticks": ""
           }
          },
          "title": {
           "x": 0.05
          },
          "xaxis": {
           "automargin": true,
           "gridcolor": "white",
           "linecolor": "white",
           "ticks": "",
           "title": {
            "standoff": 15
           },
           "zerolinecolor": "white",
           "zerolinewidth": 2
          },
          "yaxis": {
           "automargin": true,
           "gridcolor": "white",
           "linecolor": "white",
           "ticks": "",
           "title": {
            "standoff": 15
           },
           "zerolinecolor": "white",
           "zerolinewidth": 2
          }
         }
        },
        "width": 500,
        "xaxis": {
         "dtick": 1,
         "range": [
          0,
          12
         ],
         "title": {
          "text": "Hours of future shift features (cumulative)"
         }
        },
        "yaxis": {
         "range": [
          50,
          85
         ],
         "title": {
          "text": "Balanced accuracy"
         }
        }
       }
      }
     },
     "metadata": {},
     "output_type": "display_data"
    }
   ],
   "source": [
    "fig = go.Figure()\n",
    "fig.add_trace(go.Scatter(x=list(range(13)), y=df_retro_results['Office L1']['Validation BA'], mode='lines+markers', name='Office L1'))\n",
    "fig.add_trace(go.Scatter(x=list(range(13)), y=df_retro_results['Office L2']['Validation BA'], mode='lines+markers', name='Office L2'))\n",
    "fig.add_trace(go.Scatter(x=list(range(13)), y=df_retro_results['Office S3']['Validation BA'], mode='lines+markers', name='Office S3'))\n",
    "fig.add_trace(go.Scatter(x=list(range(13)), y=df_retro_results['Home 1']['Validation BA'], mode='lines+markers', name='Home 1'))\n",
    "fig.update_layout(\n",
    "    xaxis_title='Hours of future shift features (cumulative)',\n",
    "    xaxis_dtick=1,\n",
    "    xaxis_range=[0, 12],\n",
    "    yaxis_title='Balanced accuracy',\n",
    "    yaxis_range=[50, 85],\n",
    "    width=500,\n",
    "    height=500,\n",
    "    margin={'l': 0, 'r': 0, 't': 0, 'b': 0},\n",
    "    legend_orientation='h',\n",
    "    legend_xanchor='center',\n",
    "    legend_x=0.5,\n",
    ")\n",
    "fig.show()"
   ]
  },
  {
   "cell_type": "markdown",
   "metadata": {},
   "source": [
    "# Feature Reduction"
   ]
  },
  {
   "cell_type": "code",
   "execution_count": 11,
   "metadata": {},
   "outputs": [
    {
     "data": {
      "text/html": [
       "<div>\n",
       "<style scoped>\n",
       "    .dataframe tbody tr th:only-of-type {\n",
       "        vertical-align: middle;\n",
       "    }\n",
       "\n",
       "    .dataframe tbody tr th {\n",
       "        vertical-align: top;\n",
       "    }\n",
       "\n",
       "    .dataframe thead tr th {\n",
       "        text-align: left;\n",
       "    }\n",
       "\n",
       "    .dataframe thead tr:last-of-type th {\n",
       "        text-align: right;\n",
       "    }\n",
       "</style>\n",
       "<table border=\"1\" class=\"dataframe\">\n",
       "  <thead>\n",
       "    <tr>\n",
       "      <th></th>\n",
       "      <th colspan=\"2\" halign=\"left\">Office L1</th>\n",
       "      <th colspan=\"2\" halign=\"left\">Office L2</th>\n",
       "      <th colspan=\"2\" halign=\"left\">Office S3</th>\n",
       "      <th colspan=\"2\" halign=\"left\">Home 1</th>\n",
       "    </tr>\n",
       "    <tr>\n",
       "      <th></th>\n",
       "      <th>Train BA</th>\n",
       "      <th>Validation BA</th>\n",
       "      <th>Train BA</th>\n",
       "      <th>Validation BA</th>\n",
       "      <th>Train BA</th>\n",
       "      <th>Validation BA</th>\n",
       "      <th>Train BA</th>\n",
       "      <th>Validation BA</th>\n",
       "    </tr>\n",
       "    <tr>\n",
       "      <th>label</th>\n",
       "      <th></th>\n",
       "      <th></th>\n",
       "      <th></th>\n",
       "      <th></th>\n",
       "      <th></th>\n",
       "      <th></th>\n",
       "      <th></th>\n",
       "      <th></th>\n",
       "    </tr>\n",
       "  </thead>\n",
       "  <tbody>\n",
       "    <tr>\n",
       "      <th>TSF up to 8 hours ago+later</th>\n",
       "      <td>97.7</td>\n",
       "      <td>79.0</td>\n",
       "      <td>99.0</td>\n",
       "      <td>69.4</td>\n",
       "      <td>92.7</td>\n",
       "      <td>60.0</td>\n",
       "      <td>96.8</td>\n",
       "      <td>69.4</td>\n",
       "    </tr>\n",
       "    <tr>\n",
       "      <th>TSF 1/2/3/4/5/7/8 hours ago+later</th>\n",
       "      <td>97.8</td>\n",
       "      <td>80.2</td>\n",
       "      <td>98.8</td>\n",
       "      <td>69.8</td>\n",
       "      <td>91.0</td>\n",
       "      <td>61.5</td>\n",
       "      <td>96.8</td>\n",
       "      <td>69.7</td>\n",
       "    </tr>\n",
       "    <tr>\n",
       "      <th>TSF 1/2/4/5/7/8 hours ago+later</th>\n",
       "      <td>97.6</td>\n",
       "      <td>78.9</td>\n",
       "      <td>98.9</td>\n",
       "      <td>69.0</td>\n",
       "      <td>90.1</td>\n",
       "      <td>60.8</td>\n",
       "      <td>96.8</td>\n",
       "      <td>69.0</td>\n",
       "    </tr>\n",
       "    <tr>\n",
       "      <th>TSF 1/2/4/7/8 hours ago+later</th>\n",
       "      <td>97.1</td>\n",
       "      <td>80.6</td>\n",
       "      <td>98.8</td>\n",
       "      <td>69.5</td>\n",
       "      <td>89.7</td>\n",
       "      <td>61.0</td>\n",
       "      <td>96.9</td>\n",
       "      <td>69.5</td>\n",
       "    </tr>\n",
       "    <tr>\n",
       "      <th>TSF 1/2/4/8 hours ago+later</th>\n",
       "      <td>94.6</td>\n",
       "      <td>80.7</td>\n",
       "      <td>95.9</td>\n",
       "      <td>69.5</td>\n",
       "      <td>78.8</td>\n",
       "      <td>60.6</td>\n",
       "      <td>93.2</td>\n",
       "      <td>70.4</td>\n",
       "    </tr>\n",
       "    <tr>\n",
       "      <th>TSF 1/4/8 hours ago+later</th>\n",
       "      <td>94.6</td>\n",
       "      <td>79.4</td>\n",
       "      <td>95.6</td>\n",
       "      <td>67.6</td>\n",
       "      <td>76.8</td>\n",
       "      <td>59.8</td>\n",
       "      <td>93.1</td>\n",
       "      <td>70.1</td>\n",
       "    </tr>\n",
       "  </tbody>\n",
       "</table>\n",
       "</div>"
      ],
      "text/plain": [
       "                                  Office L1               Office L2  \\\n",
       "                                   Train BA Validation BA  Train BA   \n",
       "label                                                                 \n",
       "TSF up to 8 hours ago+later            97.7          79.0      99.0   \n",
       "TSF 1/2/3/4/5/7/8 hours ago+later      97.8          80.2      98.8   \n",
       "TSF 1/2/4/5/7/8 hours ago+later        97.6          78.9      98.9   \n",
       "TSF 1/2/4/7/8 hours ago+later          97.1          80.6      98.8   \n",
       "TSF 1/2/4/8 hours ago+later            94.6          80.7      95.9   \n",
       "TSF 1/4/8 hours ago+later              94.6          79.4      95.6   \n",
       "\n",
       "                                                Office S3                \\\n",
       "                                  Validation BA  Train BA Validation BA   \n",
       "label                                                                     \n",
       "TSF up to 8 hours ago+later                69.4      92.7          60.0   \n",
       "TSF 1/2/3/4/5/7/8 hours ago+later          69.8      91.0          61.5   \n",
       "TSF 1/2/4/5/7/8 hours ago+later            69.0      90.1          60.8   \n",
       "TSF 1/2/4/7/8 hours ago+later              69.5      89.7          61.0   \n",
       "TSF 1/2/4/8 hours ago+later                69.5      78.8          60.6   \n",
       "TSF 1/4/8 hours ago+later                  67.6      76.8          59.8   \n",
       "\n",
       "                                    Home 1                \n",
       "                                  Train BA Validation BA  \n",
       "label                                                     \n",
       "TSF up to 8 hours ago+later           96.8          69.4  \n",
       "TSF 1/2/3/4/5/7/8 hours ago+later     96.8          69.7  \n",
       "TSF 1/2/4/5/7/8 hours ago+later       96.8          69.0  \n",
       "TSF 1/2/4/7/8 hours ago+later         96.9          69.5  \n",
       "TSF 1/2/4/8 hours ago+later           93.2          70.4  \n",
       "TSF 1/4/8 hours ago+later             93.1          70.1  "
      ]
     },
     "execution_count": 11,
     "metadata": {},
     "output_type": "execute_result"
    }
   ],
   "source": [
    "experiments = {\n",
    "    'TSF up to 8 hours ago+later': [-6, -12, -18, -24, -30, -36, -42, -48, 6, 12, 18, 24, 30, 36, 42, 48],\n",
    "    'TSF 1/2/3/4/5/7/8 hours ago+later': [-6, -12, -18, -24, -30, -42, -48, 6, 12, 18, 24, 30, 42, 48],\n",
    "    'TSF 1/2/4/5/7/8 hours ago+later': [-6, -12, -24, -30, -42, -48, 6, 12, 24, 30, 42, 48],\n",
    "    'TSF 1/2/4/7/8 hours ago+later': [-6, -12, -24, -42, -48, 6, 12, 24, 42, 48],\n",
    "    'TSF 1/2/4/8 hours ago+later': [-6, -12, -24, -48, 6, 12, 24, 48],\n",
    "    'TSF 1/4/8 hours ago+later': [-6, -24, -48, 6, 24, 48]\n",
    "}\n",
    "\n",
    "d = {}\n",
    "for room, data in rooms.items():\n",
    "    d[room] = pd.DataFrame(\n",
    "        columns=['label', 'Train BA', 'Validation BA'],\n",
    "        data=[[label, *train_eval(model, data, shifts=shifts)] for label, shifts in experiments.items()]\n",
    "    ).set_index('label')\n",
    "\n",
    "df_reduced_results = pd.concat(d, axis=1)\n",
    "df_reduced_results\n"
   ]
  },
  {
   "cell_type": "markdown",
   "metadata": {},
   "source": [
    "# Model Iterations"
   ]
  },
  {
   "cell_type": "code",
   "execution_count": null,
   "metadata": {},
   "outputs": [
    {
     "data": {
      "text/html": [
       "<div>\n",
       "<style scoped>\n",
       "    .dataframe tbody tr th:only-of-type {\n",
       "        vertical-align: middle;\n",
       "    }\n",
       "\n",
       "    .dataframe tbody tr th {\n",
       "        vertical-align: top;\n",
       "    }\n",
       "\n",
       "    .dataframe thead tr th {\n",
       "        text-align: left;\n",
       "    }\n",
       "\n",
       "    .dataframe thead tr:last-of-type th {\n",
       "        text-align: right;\n",
       "    }\n",
       "</style>\n",
       "<table border=\"1\" class=\"dataframe\">\n",
       "  <thead>\n",
       "    <tr>\n",
       "      <th></th>\n",
       "      <th colspan=\"2\" halign=\"left\">Office L1</th>\n",
       "      <th colspan=\"2\" halign=\"left\">Office L2</th>\n",
       "      <th colspan=\"2\" halign=\"left\">Office S3</th>\n",
       "      <th colspan=\"2\" halign=\"left\">Home 1</th>\n",
       "    </tr>\n",
       "    <tr>\n",
       "      <th></th>\n",
       "      <th>Train BA</th>\n",
       "      <th>Validation BA</th>\n",
       "      <th>Train BA</th>\n",
       "      <th>Validation BA</th>\n",
       "      <th>Train BA</th>\n",
       "      <th>Validation BA</th>\n",
       "      <th>Train BA</th>\n",
       "      <th>Validation BA</th>\n",
       "    </tr>\n",
       "    <tr>\n",
       "      <th>label</th>\n",
       "      <th></th>\n",
       "      <th></th>\n",
       "      <th></th>\n",
       "      <th></th>\n",
       "      <th></th>\n",
       "      <th></th>\n",
       "      <th></th>\n",
       "      <th></th>\n",
       "    </tr>\n",
       "  </thead>\n",
       "  <tbody>\n",
       "    <tr>\n",
       "      <th>25</th>\n",
       "      <td>90.6</td>\n",
       "      <td>79.4</td>\n",
       "      <td>93.0</td>\n",
       "      <td>67.2</td>\n",
       "      <td>70.1</td>\n",
       "      <td>59.6</td>\n",
       "      <td>90.4</td>\n",
       "      <td>70.0</td>\n",
       "    </tr>\n",
       "    <tr>\n",
       "      <th>50</th>\n",
       "      <td>93.4</td>\n",
       "      <td>78.6</td>\n",
       "      <td>95.3</td>\n",
       "      <td>68.1</td>\n",
       "      <td>76.3</td>\n",
       "      <td>59.4</td>\n",
       "      <td>93.4</td>\n",
       "      <td>70.9</td>\n",
       "    </tr>\n",
       "    <tr>\n",
       "      <th>75</th>\n",
       "      <td>94.6</td>\n",
       "      <td>79.9</td>\n",
       "      <td>96.2</td>\n",
       "      <td>69.0</td>\n",
       "      <td>78.5</td>\n",
       "      <td>59.4</td>\n",
       "      <td>93.5</td>\n",
       "      <td>70.3</td>\n",
       "    </tr>\n",
       "    <tr>\n",
       "      <th>100</th>\n",
       "      <td>94.6</td>\n",
       "      <td>80.7</td>\n",
       "      <td>95.9</td>\n",
       "      <td>69.5</td>\n",
       "      <td>78.8</td>\n",
       "      <td>60.6</td>\n",
       "      <td>93.2</td>\n",
       "      <td>70.4</td>\n",
       "    </tr>\n",
       "    <tr>\n",
       "      <th>125</th>\n",
       "      <td>94.7</td>\n",
       "      <td>80.0</td>\n",
       "      <td>96.4</td>\n",
       "      <td>69.4</td>\n",
       "      <td>79.0</td>\n",
       "      <td>60.5</td>\n",
       "      <td>93.7</td>\n",
       "      <td>70.4</td>\n",
       "    </tr>\n",
       "    <tr>\n",
       "      <th>150</th>\n",
       "      <td>94.9</td>\n",
       "      <td>80.4</td>\n",
       "      <td>96.1</td>\n",
       "      <td>69.3</td>\n",
       "      <td>78.6</td>\n",
       "      <td>60.8</td>\n",
       "      <td>93.6</td>\n",
       "      <td>70.3</td>\n",
       "    </tr>\n",
       "    <tr>\n",
       "      <th>175</th>\n",
       "      <td>94.8</td>\n",
       "      <td>79.4</td>\n",
       "      <td>96.3</td>\n",
       "      <td>69.9</td>\n",
       "      <td>78.5</td>\n",
       "      <td>60.9</td>\n",
       "      <td>93.7</td>\n",
       "      <td>70.4</td>\n",
       "    </tr>\n",
       "    <tr>\n",
       "      <th>200</th>\n",
       "      <td>97.9</td>\n",
       "      <td>79.8</td>\n",
       "      <td>99.0</td>\n",
       "      <td>68.8</td>\n",
       "      <td>89.4</td>\n",
       "      <td>61.9</td>\n",
       "      <td>97.0</td>\n",
       "      <td>70.1</td>\n",
       "    </tr>\n",
       "  </tbody>\n",
       "</table>\n",
       "</div>"
      ],
      "text/plain": [
       "      Office L1               Office L2               Office S3                \\\n",
       "       Train BA Validation BA  Train BA Validation BA  Train BA Validation BA   \n",
       "label                                                                           \n",
       "25         90.6          79.4      93.0          67.2      70.1          59.6   \n",
       "50         93.4          78.6      95.3          68.1      76.3          59.4   \n",
       "75         94.6          79.9      96.2          69.0      78.5          59.4   \n",
       "100        94.6          80.7      95.9          69.5      78.8          60.6   \n",
       "125        94.7          80.0      96.4          69.4      79.0          60.5   \n",
       "150        94.9          80.4      96.1          69.3      78.6          60.8   \n",
       "175        94.8          79.4      96.3          69.9      78.5          60.9   \n",
       "200        97.9          79.8      99.0          68.8      89.4          61.9   \n",
       "\n",
       "        Home 1                \n",
       "      Train BA Validation BA  \n",
       "label                         \n",
       "25        90.4          70.0  \n",
       "50        93.4          70.9  \n",
       "75        93.5          70.3  \n",
       "100       93.2          70.4  \n",
       "125       93.7          70.4  \n",
       "150       93.6          70.3  \n",
       "175       93.7          70.4  \n",
       "200       97.0          70.1  "
      ]
     },
     "execution_count": 11,
     "metadata": {},
     "output_type": "execute_result"
    }
   ],
   "source": [
    "experiments = {\n",
    "    '25': 25,\n",
    "    '50': 50,\n",
    "    '75': 75,\n",
    "    '100': 100,\n",
    "    '125': 125,\n",
    "    '150': 150,\n",
    "    '175': 175,\n",
    "    '200': 200\n",
    "}\n",
    "\n",
    "d = {}\n",
    "for room, data in rooms.items():\n",
    "    data_list = []\n",
    "    for label, iter in experiments.items():\n",
    "        model_iter = catboost.CatBoostClassifier(iterations=iter, verbose=False, custom_loss=[catboost.metrics.F1()], random_seed=1, random_strength=0, rsm=1, has_time=True, bootstrap_type='No')\n",
    "\n",
    "        train_ba, validation_ba = train_eval(model_iter, data, shifts=[-6, -12, -24, -48, 6, 12, 24, 48])\n",
    "        data_list.append([label, train_ba, validation_ba])\n",
    "\n",
    "    d[room] = pd.DataFrame(\n",
    "        columns=['label', 'Train BA', 'Validation BA'],\n",
    "        data=data_list\n",
    "    ).set_index('label')\n",
    "\n",
    "df_iterations_results = pd.concat(d, axis=1)\n",
    "df_iterations_results\n"
   ]
  },
  {
   "cell_type": "code",
   "execution_count": null,
   "metadata": {},
   "outputs": [
    {
     "data": {
      "application/vnd.plotly.v1+json": {
       "config": {
        "plotlyServerURL": "https://plot.ly"
       },
       "data": [
        {
         "mode": "lines+markers",
         "name": "Office L1",
         "type": "scatter",
         "x": [
          25,
          50,
          75,
          100,
          125,
          150,
          175,
          200
         ],
         "y": [
          79.4,
          78.6,
          79.9,
          80.7,
          80,
          80.4,
          79.4,
          79.8
         ]
        },
        {
         "mode": "lines+markers",
         "name": "Office L2",
         "type": "scatter",
         "x": [
          25,
          50,
          75,
          100,
          125,
          150,
          175,
          200
         ],
         "y": [
          67.2,
          68.1,
          69,
          69.5,
          69.4,
          69.3,
          69.9,
          68.8
         ]
        },
        {
         "mode": "lines+markers",
         "name": "Office S3",
         "type": "scatter",
         "x": [
          25,
          50,
          75,
          100,
          125,
          150,
          175,
          200
         ],
         "y": [
          59.6,
          59.4,
          59.4,
          60.6,
          60.5,
          60.8,
          60.9,
          61.9
         ]
        },
        {
         "mode": "lines+markers",
         "name": "Home 1",
         "type": "scatter",
         "x": [
          25,
          50,
          75,
          100,
          125,
          150,
          175,
          200
         ],
         "y": [
          70,
          70.9,
          70.3,
          70.4,
          70.4,
          70.3,
          70.4,
          70.1
         ]
        }
       ],
       "layout": {
        "height": 500,
        "legend": {
         "orientation": "h",
         "x": 0.5,
         "xanchor": "center"
        },
        "margin": {
         "b": 0,
         "l": 0,
         "r": 0,
         "t": 0
        },
        "template": {
         "data": {
          "bar": [
           {
            "error_x": {
             "color": "#2a3f5f"
            },
            "error_y": {
             "color": "#2a3f5f"
            },
            "marker": {
             "line": {
              "color": "#E5ECF6",
              "width": 0.5
             },
             "pattern": {
              "fillmode": "overlay",
              "size": 10,
              "solidity": 0.2
             }
            },
            "type": "bar"
           }
          ],
          "barpolar": [
           {
            "marker": {
             "line": {
              "color": "#E5ECF6",
              "width": 0.5
             },
             "pattern": {
              "fillmode": "overlay",
              "size": 10,
              "solidity": 0.2
             }
            },
            "type": "barpolar"
           }
          ],
          "carpet": [
           {
            "aaxis": {
             "endlinecolor": "#2a3f5f",
             "gridcolor": "white",
             "linecolor": "white",
             "minorgridcolor": "white",
             "startlinecolor": "#2a3f5f"
            },
            "baxis": {
             "endlinecolor": "#2a3f5f",
             "gridcolor": "white",
             "linecolor": "white",
             "minorgridcolor": "white",
             "startlinecolor": "#2a3f5f"
            },
            "type": "carpet"
           }
          ],
          "choropleth": [
           {
            "colorbar": {
             "outlinewidth": 0,
             "ticks": ""
            },
            "type": "choropleth"
           }
          ],
          "contour": [
           {
            "colorbar": {
             "outlinewidth": 0,
             "ticks": ""
            },
            "colorscale": [
             [
              0,
              "#0d0887"
             ],
             [
              0.1111111111111111,
              "#46039f"
             ],
             [
              0.2222222222222222,
              "#7201a8"
             ],
             [
              0.3333333333333333,
              "#9c179e"
             ],
             [
              0.4444444444444444,
              "#bd3786"
             ],
             [
              0.5555555555555556,
              "#d8576b"
             ],
             [
              0.6666666666666666,
              "#ed7953"
             ],
             [
              0.7777777777777778,
              "#fb9f3a"
             ],
             [
              0.8888888888888888,
              "#fdca26"
             ],
             [
              1,
              "#f0f921"
             ]
            ],
            "type": "contour"
           }
          ],
          "contourcarpet": [
           {
            "colorbar": {
             "outlinewidth": 0,
             "ticks": ""
            },
            "type": "contourcarpet"
           }
          ],
          "heatmap": [
           {
            "colorbar": {
             "outlinewidth": 0,
             "ticks": ""
            },
            "colorscale": [
             [
              0,
              "#0d0887"
             ],
             [
              0.1111111111111111,
              "#46039f"
             ],
             [
              0.2222222222222222,
              "#7201a8"
             ],
             [
              0.3333333333333333,
              "#9c179e"
             ],
             [
              0.4444444444444444,
              "#bd3786"
             ],
             [
              0.5555555555555556,
              "#d8576b"
             ],
             [
              0.6666666666666666,
              "#ed7953"
             ],
             [
              0.7777777777777778,
              "#fb9f3a"
             ],
             [
              0.8888888888888888,
              "#fdca26"
             ],
             [
              1,
              "#f0f921"
             ]
            ],
            "type": "heatmap"
           }
          ],
          "heatmapgl": [
           {
            "colorbar": {
             "outlinewidth": 0,
             "ticks": ""
            },
            "colorscale": [
             [
              0,
              "#0d0887"
             ],
             [
              0.1111111111111111,
              "#46039f"
             ],
             [
              0.2222222222222222,
              "#7201a8"
             ],
             [
              0.3333333333333333,
              "#9c179e"
             ],
             [
              0.4444444444444444,
              "#bd3786"
             ],
             [
              0.5555555555555556,
              "#d8576b"
             ],
             [
              0.6666666666666666,
              "#ed7953"
             ],
             [
              0.7777777777777778,
              "#fb9f3a"
             ],
             [
              0.8888888888888888,
              "#fdca26"
             ],
             [
              1,
              "#f0f921"
             ]
            ],
            "type": "heatmapgl"
           }
          ],
          "histogram": [
           {
            "marker": {
             "pattern": {
              "fillmode": "overlay",
              "size": 10,
              "solidity": 0.2
             }
            },
            "type": "histogram"
           }
          ],
          "histogram2d": [
           {
            "colorbar": {
             "outlinewidth": 0,
             "ticks": ""
            },
            "colorscale": [
             [
              0,
              "#0d0887"
             ],
             [
              0.1111111111111111,
              "#46039f"
             ],
             [
              0.2222222222222222,
              "#7201a8"
             ],
             [
              0.3333333333333333,
              "#9c179e"
             ],
             [
              0.4444444444444444,
              "#bd3786"
             ],
             [
              0.5555555555555556,
              "#d8576b"
             ],
             [
              0.6666666666666666,
              "#ed7953"
             ],
             [
              0.7777777777777778,
              "#fb9f3a"
             ],
             [
              0.8888888888888888,
              "#fdca26"
             ],
             [
              1,
              "#f0f921"
             ]
            ],
            "type": "histogram2d"
           }
          ],
          "histogram2dcontour": [
           {
            "colorbar": {
             "outlinewidth": 0,
             "ticks": ""
            },
            "colorscale": [
             [
              0,
              "#0d0887"
             ],
             [
              0.1111111111111111,
              "#46039f"
             ],
             [
              0.2222222222222222,
              "#7201a8"
             ],
             [
              0.3333333333333333,
              "#9c179e"
             ],
             [
              0.4444444444444444,
              "#bd3786"
             ],
             [
              0.5555555555555556,
              "#d8576b"
             ],
             [
              0.6666666666666666,
              "#ed7953"
             ],
             [
              0.7777777777777778,
              "#fb9f3a"
             ],
             [
              0.8888888888888888,
              "#fdca26"
             ],
             [
              1,
              "#f0f921"
             ]
            ],
            "type": "histogram2dcontour"
           }
          ],
          "mesh3d": [
           {
            "colorbar": {
             "outlinewidth": 0,
             "ticks": ""
            },
            "type": "mesh3d"
           }
          ],
          "parcoords": [
           {
            "line": {
             "colorbar": {
              "outlinewidth": 0,
              "ticks": ""
             }
            },
            "type": "parcoords"
           }
          ],
          "pie": [
           {
            "automargin": true,
            "type": "pie"
           }
          ],
          "scatter": [
           {
            "fillpattern": {
             "fillmode": "overlay",
             "size": 10,
             "solidity": 0.2
            },
            "type": "scatter"
           }
          ],
          "scatter3d": [
           {
            "line": {
             "colorbar": {
              "outlinewidth": 0,
              "ticks": ""
             }
            },
            "marker": {
             "colorbar": {
              "outlinewidth": 0,
              "ticks": ""
             }
            },
            "type": "scatter3d"
           }
          ],
          "scattercarpet": [
           {
            "marker": {
             "colorbar": {
              "outlinewidth": 0,
              "ticks": ""
             }
            },
            "type": "scattercarpet"
           }
          ],
          "scattergeo": [
           {
            "marker": {
             "colorbar": {
              "outlinewidth": 0,
              "ticks": ""
             }
            },
            "type": "scattergeo"
           }
          ],
          "scattergl": [
           {
            "marker": {
             "colorbar": {
              "outlinewidth": 0,
              "ticks": ""
             }
            },
            "type": "scattergl"
           }
          ],
          "scattermapbox": [
           {
            "marker": {
             "colorbar": {
              "outlinewidth": 0,
              "ticks": ""
             }
            },
            "type": "scattermapbox"
           }
          ],
          "scatterpolar": [
           {
            "marker": {
             "colorbar": {
              "outlinewidth": 0,
              "ticks": ""
             }
            },
            "type": "scatterpolar"
           }
          ],
          "scatterpolargl": [
           {
            "marker": {
             "colorbar": {
              "outlinewidth": 0,
              "ticks": ""
             }
            },
            "type": "scatterpolargl"
           }
          ],
          "scatterternary": [
           {
            "marker": {
             "colorbar": {
              "outlinewidth": 0,
              "ticks": ""
             }
            },
            "type": "scatterternary"
           }
          ],
          "surface": [
           {
            "colorbar": {
             "outlinewidth": 0,
             "ticks": ""
            },
            "colorscale": [
             [
              0,
              "#0d0887"
             ],
             [
              0.1111111111111111,
              "#46039f"
             ],
             [
              0.2222222222222222,
              "#7201a8"
             ],
             [
              0.3333333333333333,
              "#9c179e"
             ],
             [
              0.4444444444444444,
              "#bd3786"
             ],
             [
              0.5555555555555556,
              "#d8576b"
             ],
             [
              0.6666666666666666,
              "#ed7953"
             ],
             [
              0.7777777777777778,
              "#fb9f3a"
             ],
             [
              0.8888888888888888,
              "#fdca26"
             ],
             [
              1,
              "#f0f921"
             ]
            ],
            "type": "surface"
           }
          ],
          "table": [
           {
            "cells": {
             "fill": {
              "color": "#EBF0F8"
             },
             "line": {
              "color": "white"
             }
            },
            "header": {
             "fill": {
              "color": "#C8D4E3"
             },
             "line": {
              "color": "white"
             }
            },
            "type": "table"
           }
          ]
         },
         "layout": {
          "annotationdefaults": {
           "arrowcolor": "#2a3f5f",
           "arrowhead": 0,
           "arrowwidth": 1
          },
          "autotypenumbers": "strict",
          "coloraxis": {
           "colorbar": {
            "outlinewidth": 0,
            "ticks": ""
           }
          },
          "colorscale": {
           "diverging": [
            [
             0,
             "#8e0152"
            ],
            [
             0.1,
             "#c51b7d"
            ],
            [
             0.2,
             "#de77ae"
            ],
            [
             0.3,
             "#f1b6da"
            ],
            [
             0.4,
             "#fde0ef"
            ],
            [
             0.5,
             "#f7f7f7"
            ],
            [
             0.6,
             "#e6f5d0"
            ],
            [
             0.7,
             "#b8e186"
            ],
            [
             0.8,
             "#7fbc41"
            ],
            [
             0.9,
             "#4d9221"
            ],
            [
             1,
             "#276419"
            ]
           ],
           "sequential": [
            [
             0,
             "#0d0887"
            ],
            [
             0.1111111111111111,
             "#46039f"
            ],
            [
             0.2222222222222222,
             "#7201a8"
            ],
            [
             0.3333333333333333,
             "#9c179e"
            ],
            [
             0.4444444444444444,
             "#bd3786"
            ],
            [
             0.5555555555555556,
             "#d8576b"
            ],
            [
             0.6666666666666666,
             "#ed7953"
            ],
            [
             0.7777777777777778,
             "#fb9f3a"
            ],
            [
             0.8888888888888888,
             "#fdca26"
            ],
            [
             1,
             "#f0f921"
            ]
           ],
           "sequentialminus": [
            [
             0,
             "#0d0887"
            ],
            [
             0.1111111111111111,
             "#46039f"
            ],
            [
             0.2222222222222222,
             "#7201a8"
            ],
            [
             0.3333333333333333,
             "#9c179e"
            ],
            [
             0.4444444444444444,
             "#bd3786"
            ],
            [
             0.5555555555555556,
             "#d8576b"
            ],
            [
             0.6666666666666666,
             "#ed7953"
            ],
            [
             0.7777777777777778,
             "#fb9f3a"
            ],
            [
             0.8888888888888888,
             "#fdca26"
            ],
            [
             1,
             "#f0f921"
            ]
           ]
          },
          "colorway": [
           "#636efa",
           "#EF553B",
           "#00cc96",
           "#ab63fa",
           "#FFA15A",
           "#19d3f3",
           "#FF6692",
           "#B6E880",
           "#FF97FF",
           "#FECB52"
          ],
          "font": {
           "color": "#2a3f5f"
          },
          "geo": {
           "bgcolor": "white",
           "lakecolor": "white",
           "landcolor": "#E5ECF6",
           "showlakes": true,
           "showland": true,
           "subunitcolor": "white"
          },
          "hoverlabel": {
           "align": "left"
          },
          "hovermode": "closest",
          "mapbox": {
           "style": "light"
          },
          "paper_bgcolor": "white",
          "plot_bgcolor": "#E5ECF6",
          "polar": {
           "angularaxis": {
            "gridcolor": "white",
            "linecolor": "white",
            "ticks": ""
           },
           "bgcolor": "#E5ECF6",
           "radialaxis": {
            "gridcolor": "white",
            "linecolor": "white",
            "ticks": ""
           }
          },
          "scene": {
           "xaxis": {
            "backgroundcolor": "#E5ECF6",
            "gridcolor": "white",
            "gridwidth": 2,
            "linecolor": "white",
            "showbackground": true,
            "ticks": "",
            "zerolinecolor": "white"
           },
           "yaxis": {
            "backgroundcolor": "#E5ECF6",
            "gridcolor": "white",
            "gridwidth": 2,
            "linecolor": "white",
            "showbackground": true,
            "ticks": "",
            "zerolinecolor": "white"
           },
           "zaxis": {
            "backgroundcolor": "#E5ECF6",
            "gridcolor": "white",
            "gridwidth": 2,
            "linecolor": "white",
            "showbackground": true,
            "ticks": "",
            "zerolinecolor": "white"
           }
          },
          "shapedefaults": {
           "line": {
            "color": "#2a3f5f"
           }
          },
          "ternary": {
           "aaxis": {
            "gridcolor": "white",
            "linecolor": "white",
            "ticks": ""
           },
           "baxis": {
            "gridcolor": "white",
            "linecolor": "white",
            "ticks": ""
           },
           "bgcolor": "#E5ECF6",
           "caxis": {
            "gridcolor": "white",
            "linecolor": "white",
            "ticks": ""
           }
          },
          "title": {
           "x": 0.05
          },
          "xaxis": {
           "automargin": true,
           "gridcolor": "white",
           "linecolor": "white",
           "ticks": "",
           "title": {
            "standoff": 15
           },
           "zerolinecolor": "white",
           "zerolinewidth": 2
          },
          "yaxis": {
           "automargin": true,
           "gridcolor": "white",
           "linecolor": "white",
           "ticks": "",
           "title": {
            "standoff": 15
           },
           "zerolinecolor": "white",
           "zerolinewidth": 2
          }
         }
        },
        "width": 500,
        "xaxis": {
         "dtick": 25,
         "range": [
          25,
          200.6
         ],
         "title": {
          "text": "Number of CatBoost iterations"
         }
        },
        "yaxis": {
         "range": [
          50,
          85
         ],
         "title": {
          "text": "Balanced accuracy"
         }
        }
       }
      }
     },
     "metadata": {},
     "output_type": "display_data"
    }
   ],
   "source": [
    "fig = go.Figure()\n",
    "fig.add_trace(go.Scatter(x=df_iterations_results.index.astype(int), y=df_iterations_results['Office L1']['Validation BA'], mode='lines+markers', name='Office L1'))\n",
    "fig.add_trace(go.Scatter(x=df_iterations_results.index.astype(int), y=df_iterations_results['Office L2']['Validation BA'], mode='lines+markers', name='Office L2'))\n",
    "fig.add_trace(go.Scatter(x=df_iterations_results.index.astype(int), y=df_iterations_results['Office S3']['Validation BA'], mode='lines+markers', name='Office S3'))\n",
    "fig.add_trace(go.Scatter(x=df_iterations_results.index.astype(int), y=df_iterations_results['Home 1']['Validation BA'], mode='lines+markers', name='Home 1'))\n",
    "fig.update_layout(\n",
    "    xaxis_title='Number of CatBoost iterations',\n",
    "    xaxis_dtick=25,\n",
    "    xaxis_range=[25, 200.6],\n",
    "    yaxis_title='Balanced accuracy',\n",
    "    yaxis_range=[50, 85],\n",
    "    width=500,\n",
    "    height=500,\n",
    "    margin={'l': 0, 'r': 0, 't': 0, 'b': 0},\n",
    "    legend_orientation='h',\n",
    "    legend_xanchor='center',\n",
    "    legend_x=0.5,\n",
    ")\n",
    "fig.show()"
   ]
  },
  {
   "cell_type": "markdown",
   "metadata": {},
   "source": [
    "# Training Time"
   ]
  },
  {
   "cell_type": "code",
   "execution_count": 6,
   "metadata": {},
   "outputs": [
    {
     "name": "stdout",
     "output_type": "stream",
     "text": [
      "Mean run time (ms): 3249.0\n",
      "Std run time (ms): 247.0\n"
     ]
    }
   ],
   "source": [
    "run_times = []\n",
    "\n",
    "for i in range(10):\n",
    "    for room, data in rooms.items():\n",
    "        start = time.perf_counter()\n",
    "        train_eval(model, data, shifts=[-6, -12, -24, -48, 6, 12, 24, 48])\n",
    "        run_times.append((time.perf_counter() - start) * 1000)\n",
    "\n",
    "print('Mean run time (ms):', np.mean(run_times).round())\n",
    "print('Std run time (ms):', np.std(run_times).round())\n"
   ]
  },
  {
   "cell_type": "code",
   "execution_count": null,
   "metadata": {},
   "outputs": [],
   "source": []
  }
 ],
 "metadata": {
  "kernelspec": {
   "display_name": "presence",
   "language": "python",
   "name": "python3"
  },
  "language_info": {
   "codemirror_mode": {
    "name": "ipython",
    "version": 3
   },
   "file_extension": ".py",
   "mimetype": "text/x-python",
   "name": "python",
   "nbconvert_exporter": "python",
   "pygments_lexer": "ipython3",
   "version": "3.9.16"
  },
  "orig_nbformat": 4
 },
 "nbformat": 4,
 "nbformat_minor": 2
}
